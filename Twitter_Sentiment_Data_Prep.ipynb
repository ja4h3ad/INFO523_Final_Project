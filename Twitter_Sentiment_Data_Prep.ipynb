{
 "cells": [
  {
   "cell_type": "markdown",
   "id": "c9db89e8",
   "metadata": {},
   "source": [
    "# Twitter customer care dataset"
   ]
  },
  {
   "cell_type": "code",
   "execution_count": 1,
   "id": "8eb65542",
   "metadata": {},
   "outputs": [
    {
     "name": "stderr",
     "output_type": "stream",
     "text": [
      "/home/andrew/.local/lib/python3.8/site-packages/pandas/core/computation/expressions.py:20: UserWarning: Pandas requires version '2.7.3' or newer of 'numexpr' (version '2.7.1' currently installed).\n",
      "  from pandas.core.computation.check import NUMEXPR_INSTALLED\n"
     ]
    }
   ],
   "source": [
    "import pandas as pd\n",
    "from tqdm.notebook import tqdm\n",
    "tqdm.pandas()\n",
    "import numpy as np\n",
    "import matplotlib.pyplot as plt\n",
    "import seaborn as sns\n",
    "plt.style.use('ggplot')\n",
    "import nltk\n",
    "from nltk.sentiment.vader import SentimentIntensityAnalyzer\n",
    "import re\n",
    "import os\n",
    "from datetime import datetime\n",
    "from tqdm import tqdm_notebook\n",
    "from collections import Counter\n",
    "from sklearn.feature_extraction.text import CountVectorizer"
   ]
  },
  {
   "cell_type": "code",
   "execution_count": 2,
   "id": "b17c179f",
   "metadata": {},
   "outputs": [
    {
     "data": {
      "text/plain": [
       "['twcs.csv']"
      ]
     },
     "execution_count": 2,
     "metadata": {},
     "output_type": "execute_result"
    }
   ],
   "source": [
    "# os.getcwd()\n",
    "os.listdir('kaggle_customer_support/')"
   ]
  },
  {
   "cell_type": "markdown",
   "id": "cdbe438b",
   "metadata": {},
   "source": [
    "# The goal of this exercise:\n",
    "1. Parse the data set into similarly themed conversational interactions (to what our Care organization might see with customers)\n",
    "2. Evaluate the dataset with two different models (transformer and NLTK.vader), both of which are unsupervised transfer learning models for sentiment - with the goal of seeing how much the models concur\n"
   ]
  },
  {
   "cell_type": "markdown",
   "id": "c5db4f42",
   "metadata": {},
   "source": [
    "### create dataframe with dataset consisting of customer support tweets"
   ]
  },
  {
   "cell_type": "code",
   "execution_count": 3,
   "id": "5585afaf",
   "metadata": {},
   "outputs": [],
   "source": [
    "tweets = pd.read_csv('kaggle_customer_support/twcs.csv')"
   ]
  },
  {
   "cell_type": "code",
   "execution_count": 4,
   "id": "4aaa72d8",
   "metadata": {},
   "outputs": [
    {
     "data": {
      "text/plain": [
       "(2811774, 7)"
      ]
     },
     "execution_count": 4,
     "metadata": {},
     "output_type": "execute_result"
    }
   ],
   "source": [
    "tweets.shape"
   ]
  },
  {
   "cell_type": "code",
   "execution_count": 5,
   "id": "0b728d72",
   "metadata": {},
   "outputs": [
    {
     "data": {
      "text/html": [
       "<div>\n",
       "<style scoped>\n",
       "    .dataframe tbody tr th:only-of-type {\n",
       "        vertical-align: middle;\n",
       "    }\n",
       "\n",
       "    .dataframe tbody tr th {\n",
       "        vertical-align: top;\n",
       "    }\n",
       "\n",
       "    .dataframe thead th {\n",
       "        text-align: right;\n",
       "    }\n",
       "</style>\n",
       "<table border=\"1\" class=\"dataframe\">\n",
       "  <thead>\n",
       "    <tr style=\"text-align: right;\">\n",
       "      <th></th>\n",
       "      <th>tweet_id</th>\n",
       "      <th>author_id</th>\n",
       "      <th>inbound</th>\n",
       "      <th>created_at</th>\n",
       "      <th>text</th>\n",
       "      <th>response_tweet_id</th>\n",
       "      <th>in_response_to_tweet_id</th>\n",
       "    </tr>\n",
       "  </thead>\n",
       "  <tbody>\n",
       "    <tr>\n",
       "      <th>0</th>\n",
       "      <td>1</td>\n",
       "      <td>sprintcare</td>\n",
       "      <td>False</td>\n",
       "      <td>Tue Oct 31 22:10:47 +0000 2017</td>\n",
       "      <td>@115712 I understand. I would like to assist y...</td>\n",
       "      <td>2</td>\n",
       "      <td>3.0</td>\n",
       "    </tr>\n",
       "    <tr>\n",
       "      <th>1</th>\n",
       "      <td>2</td>\n",
       "      <td>115712</td>\n",
       "      <td>True</td>\n",
       "      <td>Tue Oct 31 22:11:45 +0000 2017</td>\n",
       "      <td>@sprintcare and how do you propose we do that</td>\n",
       "      <td>NaN</td>\n",
       "      <td>1.0</td>\n",
       "    </tr>\n",
       "    <tr>\n",
       "      <th>2</th>\n",
       "      <td>3</td>\n",
       "      <td>115712</td>\n",
       "      <td>True</td>\n",
       "      <td>Tue Oct 31 22:08:27 +0000 2017</td>\n",
       "      <td>@sprintcare I have sent several private messag...</td>\n",
       "      <td>1</td>\n",
       "      <td>4.0</td>\n",
       "    </tr>\n",
       "    <tr>\n",
       "      <th>3</th>\n",
       "      <td>4</td>\n",
       "      <td>sprintcare</td>\n",
       "      <td>False</td>\n",
       "      <td>Tue Oct 31 21:54:49 +0000 2017</td>\n",
       "      <td>@115712 Please send us a Private Message so th...</td>\n",
       "      <td>3</td>\n",
       "      <td>5.0</td>\n",
       "    </tr>\n",
       "    <tr>\n",
       "      <th>4</th>\n",
       "      <td>5</td>\n",
       "      <td>115712</td>\n",
       "      <td>True</td>\n",
       "      <td>Tue Oct 31 21:49:35 +0000 2017</td>\n",
       "      <td>@sprintcare I did.</td>\n",
       "      <td>4</td>\n",
       "      <td>6.0</td>\n",
       "    </tr>\n",
       "    <tr>\n",
       "      <th>5</th>\n",
       "      <td>6</td>\n",
       "      <td>sprintcare</td>\n",
       "      <td>False</td>\n",
       "      <td>Tue Oct 31 21:46:24 +0000 2017</td>\n",
       "      <td>@115712 Can you please send us a private messa...</td>\n",
       "      <td>5,7</td>\n",
       "      <td>8.0</td>\n",
       "    </tr>\n",
       "    <tr>\n",
       "      <th>6</th>\n",
       "      <td>8</td>\n",
       "      <td>115712</td>\n",
       "      <td>True</td>\n",
       "      <td>Tue Oct 31 21:45:10 +0000 2017</td>\n",
       "      <td>@sprintcare is the worst customer service</td>\n",
       "      <td>9,6,10</td>\n",
       "      <td>NaN</td>\n",
       "    </tr>\n",
       "    <tr>\n",
       "      <th>7</th>\n",
       "      <td>11</td>\n",
       "      <td>sprintcare</td>\n",
       "      <td>False</td>\n",
       "      <td>Tue Oct 31 22:10:35 +0000 2017</td>\n",
       "      <td>@115713 This is saddening to hear. Please shoo...</td>\n",
       "      <td>NaN</td>\n",
       "      <td>12.0</td>\n",
       "    </tr>\n",
       "    <tr>\n",
       "      <th>8</th>\n",
       "      <td>12</td>\n",
       "      <td>115713</td>\n",
       "      <td>True</td>\n",
       "      <td>Tue Oct 31 22:04:47 +0000 2017</td>\n",
       "      <td>@sprintcare You gonna magically change your co...</td>\n",
       "      <td>11,13,14</td>\n",
       "      <td>15.0</td>\n",
       "    </tr>\n",
       "    <tr>\n",
       "      <th>9</th>\n",
       "      <td>15</td>\n",
       "      <td>sprintcare</td>\n",
       "      <td>False</td>\n",
       "      <td>Tue Oct 31 20:03:31 +0000 2017</td>\n",
       "      <td>@115713 We understand your concerns and we'd l...</td>\n",
       "      <td>12</td>\n",
       "      <td>16.0</td>\n",
       "    </tr>\n",
       "  </tbody>\n",
       "</table>\n",
       "</div>"
      ],
      "text/plain": [
       "   tweet_id   author_id  inbound                      created_at  \\\n",
       "0         1  sprintcare    False  Tue Oct 31 22:10:47 +0000 2017   \n",
       "1         2      115712     True  Tue Oct 31 22:11:45 +0000 2017   \n",
       "2         3      115712     True  Tue Oct 31 22:08:27 +0000 2017   \n",
       "3         4  sprintcare    False  Tue Oct 31 21:54:49 +0000 2017   \n",
       "4         5      115712     True  Tue Oct 31 21:49:35 +0000 2017   \n",
       "5         6  sprintcare    False  Tue Oct 31 21:46:24 +0000 2017   \n",
       "6         8      115712     True  Tue Oct 31 21:45:10 +0000 2017   \n",
       "7        11  sprintcare    False  Tue Oct 31 22:10:35 +0000 2017   \n",
       "8        12      115713     True  Tue Oct 31 22:04:47 +0000 2017   \n",
       "9        15  sprintcare    False  Tue Oct 31 20:03:31 +0000 2017   \n",
       "\n",
       "                                                text response_tweet_id  \\\n",
       "0  @115712 I understand. I would like to assist y...                 2   \n",
       "1      @sprintcare and how do you propose we do that               NaN   \n",
       "2  @sprintcare I have sent several private messag...                 1   \n",
       "3  @115712 Please send us a Private Message so th...                 3   \n",
       "4                                 @sprintcare I did.                 4   \n",
       "5  @115712 Can you please send us a private messa...               5,7   \n",
       "6          @sprintcare is the worst customer service            9,6,10   \n",
       "7  @115713 This is saddening to hear. Please shoo...               NaN   \n",
       "8  @sprintcare You gonna magically change your co...          11,13,14   \n",
       "9  @115713 We understand your concerns and we'd l...                12   \n",
       "\n",
       "   in_response_to_tweet_id  \n",
       "0                      3.0  \n",
       "1                      1.0  \n",
       "2                      4.0  \n",
       "3                      5.0  \n",
       "4                      6.0  \n",
       "5                      8.0  \n",
       "6                      NaN  \n",
       "7                     12.0  \n",
       "8                     15.0  \n",
       "9                     16.0  "
      ]
     },
     "execution_count": 5,
     "metadata": {},
     "output_type": "execute_result"
    }
   ],
   "source": [
    "tweets.head(10) # Evaluate the dataset"
   ]
  },
  {
   "cell_type": "code",
   "execution_count": 6,
   "id": "51f6d019",
   "metadata": {},
   "outputs": [
    {
     "data": {
      "text/plain": [
       "'@sprintcare You gonna magically change your connectivity for me and my whole family ? 🤥 💯'"
      ]
     },
     "execution_count": 6,
     "metadata": {},
     "output_type": "execute_result"
    }
   ],
   "source": [
    "# Evaluate some data to understand the type of text inside of the cell\n",
    "tweets.iloc[8]['text']"
   ]
  },
  {
   "cell_type": "markdown",
   "id": "c68ec97c",
   "metadata": {},
   "source": [
    "### I am going to focus on the customer tweets only for this experiment "
   ]
  },
  {
   "cell_type": "code",
   "execution_count": 7,
   "id": "53fb55e9",
   "metadata": {},
   "outputs": [],
   "source": [
    "customer_view = tweets[tweets.inbound]"
   ]
  },
  {
   "cell_type": "code",
   "execution_count": 8,
   "id": "5eb2df1c",
   "metadata": {},
   "outputs": [
    {
     "data": {
      "text/plain": [
       "(1537843, 7)"
      ]
     },
     "execution_count": 8,
     "metadata": {},
     "output_type": "execute_result"
    }
   ],
   "source": [
    "customer_view.shape"
   ]
  },
  {
   "cell_type": "markdown",
   "id": "06fe8712",
   "metadata": {},
   "source": [
    "###  to isolate the dataset further, I am choosing to initially focus on a telecommunications sub dataset"
   ]
  },
  {
   "cell_type": "code",
   "execution_count": 9,
   "id": "5481cee4",
   "metadata": {},
   "outputs": [],
   "source": [
    "customer = customer_view[customer_view['text'].str.contains(\"@sprintcare\")]"
   ]
  },
  {
   "cell_type": "code",
   "execution_count": 10,
   "id": "bae5274f",
   "metadata": {},
   "outputs": [
    {
     "data": {
      "text/html": [
       "<div>\n",
       "<style scoped>\n",
       "    .dataframe tbody tr th:only-of-type {\n",
       "        vertical-align: middle;\n",
       "    }\n",
       "\n",
       "    .dataframe tbody tr th {\n",
       "        vertical-align: top;\n",
       "    }\n",
       "\n",
       "    .dataframe thead th {\n",
       "        text-align: right;\n",
       "    }\n",
       "</style>\n",
       "<table border=\"1\" class=\"dataframe\">\n",
       "  <thead>\n",
       "    <tr style=\"text-align: right;\">\n",
       "      <th></th>\n",
       "      <th>tweet_id</th>\n",
       "      <th>author_id</th>\n",
       "      <th>inbound</th>\n",
       "      <th>created_at</th>\n",
       "      <th>text</th>\n",
       "      <th>response_tweet_id</th>\n",
       "      <th>in_response_to_tweet_id</th>\n",
       "    </tr>\n",
       "  </thead>\n",
       "  <tbody>\n",
       "    <tr>\n",
       "      <th>1</th>\n",
       "      <td>2</td>\n",
       "      <td>115712</td>\n",
       "      <td>True</td>\n",
       "      <td>Tue Oct 31 22:11:45 +0000 2017</td>\n",
       "      <td>@sprintcare and how do you propose we do that</td>\n",
       "      <td>NaN</td>\n",
       "      <td>1.0</td>\n",
       "    </tr>\n",
       "    <tr>\n",
       "      <th>2</th>\n",
       "      <td>3</td>\n",
       "      <td>115712</td>\n",
       "      <td>True</td>\n",
       "      <td>Tue Oct 31 22:08:27 +0000 2017</td>\n",
       "      <td>@sprintcare I have sent several private messag...</td>\n",
       "      <td>1</td>\n",
       "      <td>4.0</td>\n",
       "    </tr>\n",
       "    <tr>\n",
       "      <th>4</th>\n",
       "      <td>5</td>\n",
       "      <td>115712</td>\n",
       "      <td>True</td>\n",
       "      <td>Tue Oct 31 21:49:35 +0000 2017</td>\n",
       "      <td>@sprintcare I did.</td>\n",
       "      <td>4</td>\n",
       "      <td>6.0</td>\n",
       "    </tr>\n",
       "    <tr>\n",
       "      <th>6</th>\n",
       "      <td>8</td>\n",
       "      <td>115712</td>\n",
       "      <td>True</td>\n",
       "      <td>Tue Oct 31 21:45:10 +0000 2017</td>\n",
       "      <td>@sprintcare is the worst customer service</td>\n",
       "      <td>9,6,10</td>\n",
       "      <td>NaN</td>\n",
       "    </tr>\n",
       "    <tr>\n",
       "      <th>8</th>\n",
       "      <td>12</td>\n",
       "      <td>115713</td>\n",
       "      <td>True</td>\n",
       "      <td>Tue Oct 31 22:04:47 +0000 2017</td>\n",
       "      <td>@sprintcare You gonna magically change your co...</td>\n",
       "      <td>11,13,14</td>\n",
       "      <td>15.0</td>\n",
       "    </tr>\n",
       "  </tbody>\n",
       "</table>\n",
       "</div>"
      ],
      "text/plain": [
       "   tweet_id author_id  inbound                      created_at  \\\n",
       "1         2    115712     True  Tue Oct 31 22:11:45 +0000 2017   \n",
       "2         3    115712     True  Tue Oct 31 22:08:27 +0000 2017   \n",
       "4         5    115712     True  Tue Oct 31 21:49:35 +0000 2017   \n",
       "6         8    115712     True  Tue Oct 31 21:45:10 +0000 2017   \n",
       "8        12    115713     True  Tue Oct 31 22:04:47 +0000 2017   \n",
       "\n",
       "                                                text response_tweet_id  \\\n",
       "1      @sprintcare and how do you propose we do that               NaN   \n",
       "2  @sprintcare I have sent several private messag...                 1   \n",
       "4                                 @sprintcare I did.                 4   \n",
       "6          @sprintcare is the worst customer service            9,6,10   \n",
       "8  @sprintcare You gonna magically change your co...          11,13,14   \n",
       "\n",
       "   in_response_to_tweet_id  \n",
       "1                      1.0  \n",
       "2                      4.0  \n",
       "4                      6.0  \n",
       "6                      NaN  \n",
       "8                     15.0  "
      ]
     },
     "execution_count": 10,
     "metadata": {},
     "output_type": "execute_result"
    }
   ],
   "source": [
    "customer.head()"
   ]
  },
  {
   "cell_type": "code",
   "execution_count": 12,
   "id": "6f9b5dd6",
   "metadata": {},
   "outputs": [],
   "source": [
    "### Keep the size of the dataset large so we have ample training and test data"
   ]
  },
  {
   "cell_type": "code",
   "execution_count": 14,
   "id": "f5ee414e",
   "metadata": {},
   "outputs": [],
   "source": [
    "result = customer.dtypes"
   ]
  },
  {
   "cell_type": "code",
   "execution_count": 15,
   "id": "291155f7",
   "metadata": {},
   "outputs": [
    {
     "data": {
      "text/plain": [
       "tweet_id                     int64\n",
       "author_id                   object\n",
       "inbound                       bool\n",
       "created_at                  object\n",
       "text                        object\n",
       "response_tweet_id           object\n",
       "in_response_to_tweet_id    float64\n",
       "dtype: object"
      ]
     },
     "execution_count": 15,
     "metadata": {},
     "output_type": "execute_result"
    }
   ],
   "source": [
    "result"
   ]
  },
  {
   "cell_type": "code",
   "execution_count": 16,
   "id": "c3b5dbec",
   "metadata": {},
   "outputs": [
    {
     "name": "stderr",
     "output_type": "stream",
     "text": [
      "/tmp/ipykernel_10080/1001897530.py:1: SettingWithCopyWarning: \n",
      "A value is trying to be set on a copy of a slice from a DataFrame.\n",
      "Try using .loc[row_indexer,col_indexer] = value instead\n",
      "\n",
      "See the caveats in the documentation: https://pandas.pydata.org/pandas-docs/stable/user_guide/indexing.html#returning-a-view-versus-a-copy\n",
      "  customer['created_at'] = pd.to_datetime(customer.created_at)\n"
     ]
    }
   ],
   "source": [
    "customer['created_at'] = pd.to_datetime(customer.created_at)\n",
    "customer= customer.sort_values(by = 'created_at')"
   ]
  },
  {
   "cell_type": "code",
   "execution_count": 17,
   "id": "3fe4e07c",
   "metadata": {},
   "outputs": [
    {
     "data": {
      "text/html": [
       "<div>\n",
       "<style scoped>\n",
       "    .dataframe tbody tr th:only-of-type {\n",
       "        vertical-align: middle;\n",
       "    }\n",
       "\n",
       "    .dataframe tbody tr th {\n",
       "        vertical-align: top;\n",
       "    }\n",
       "\n",
       "    .dataframe thead th {\n",
       "        text-align: right;\n",
       "    }\n",
       "</style>\n",
       "<table border=\"1\" class=\"dataframe\">\n",
       "  <thead>\n",
       "    <tr style=\"text-align: right;\">\n",
       "      <th></th>\n",
       "      <th>tweet_id</th>\n",
       "      <th>author_id</th>\n",
       "      <th>inbound</th>\n",
       "      <th>created_at</th>\n",
       "      <th>text</th>\n",
       "      <th>response_tweet_id</th>\n",
       "      <th>in_response_to_tweet_id</th>\n",
       "    </tr>\n",
       "  </thead>\n",
       "  <tbody>\n",
       "    <tr>\n",
       "      <th>1157188</th>\n",
       "      <td>1278330</td>\n",
       "      <td>419157</td>\n",
       "      <td>True</td>\n",
       "      <td>2011-11-28 18:39:16+00:00</td>\n",
       "      <td>@sprintcare I can not make any calls whats the...</td>\n",
       "      <td>1278329</td>\n",
       "      <td>NaN</td>\n",
       "    </tr>\n",
       "    <tr>\n",
       "      <th>1402575</th>\n",
       "      <td>1544038</td>\n",
       "      <td>478295</td>\n",
       "      <td>True</td>\n",
       "      <td>2015-09-16 02:57:20+00:00</td>\n",
       "      <td>@115714 @sprintcare I get almost no service af...</td>\n",
       "      <td>1544039,1544040,1544041,1544035</td>\n",
       "      <td>NaN</td>\n",
       "    </tr>\n",
       "    <tr>\n",
       "      <th>2582572</th>\n",
       "      <td>2753722</td>\n",
       "      <td>770395</td>\n",
       "      <td>True</td>\n",
       "      <td>2015-10-26 17:07:32+00:00</td>\n",
       "      <td>@sprintcare to replace this one without paying...</td>\n",
       "      <td>2753721</td>\n",
       "      <td>2753723.0</td>\n",
       "    </tr>\n",
       "    <tr>\n",
       "      <th>2582570</th>\n",
       "      <td>2753720</td>\n",
       "      <td>770395</td>\n",
       "      <td>True</td>\n",
       "      <td>2015-10-26 17:14:03+00:00</td>\n",
       "      <td>@sprintcare done</td>\n",
       "      <td>2753719</td>\n",
       "      <td>2753721.0</td>\n",
       "    </tr>\n",
       "    <tr>\n",
       "      <th>2582569</th>\n",
       "      <td>2753719</td>\n",
       "      <td>770395</td>\n",
       "      <td>True</td>\n",
       "      <td>2015-10-26 17:30:32+00:00</td>\n",
       "      <td>@sprintcare get any early upgrade.  My less th...</td>\n",
       "      <td>2753718</td>\n",
       "      <td>2753720.0</td>\n",
       "    </tr>\n",
       "  </tbody>\n",
       "</table>\n",
       "</div>"
      ],
      "text/plain": [
       "         tweet_id author_id  inbound                created_at  \\\n",
       "1157188   1278330    419157     True 2011-11-28 18:39:16+00:00   \n",
       "1402575   1544038    478295     True 2015-09-16 02:57:20+00:00   \n",
       "2582572   2753722    770395     True 2015-10-26 17:07:32+00:00   \n",
       "2582570   2753720    770395     True 2015-10-26 17:14:03+00:00   \n",
       "2582569   2753719    770395     True 2015-10-26 17:30:32+00:00   \n",
       "\n",
       "                                                      text  \\\n",
       "1157188  @sprintcare I can not make any calls whats the...   \n",
       "1402575  @115714 @sprintcare I get almost no service af...   \n",
       "2582572  @sprintcare to replace this one without paying...   \n",
       "2582570                                   @sprintcare done   \n",
       "2582569  @sprintcare get any early upgrade.  My less th...   \n",
       "\n",
       "                       response_tweet_id  in_response_to_tweet_id  \n",
       "1157188                          1278329                      NaN  \n",
       "1402575  1544039,1544040,1544041,1544035                      NaN  \n",
       "2582572                          2753721                2753723.0  \n",
       "2582570                          2753719                2753721.0  \n",
       "2582569                          2753718                2753720.0  "
      ]
     },
     "execution_count": 17,
     "metadata": {},
     "output_type": "execute_result"
    }
   ],
   "source": [
    "customer.head()"
   ]
  },
  {
   "cell_type": "markdown",
   "id": "cf3b2f39",
   "metadata": {},
   "source": [
    "#### in order to normalize the data for later use in transformer comparison, I am going to:\n",
    "- remove @sprintcare\n",
    "- remove frequent words\n",
    "- remove stopwords\n",
    "- remove URLs"
   ]
  },
  {
   "cell_type": "code",
   "execution_count": 18,
   "id": "8d5c7061",
   "metadata": {},
   "outputs": [],
   "source": [
    "# 1. Get the most frequent terms\n",
    "counter = Counter()\n",
    "for text in customer[\"text\"].values:\n",
    "    for word in text.split():\n",
    "        counter[word] +=1\n",
    "top_25 = counter.most_common(25)\n",
    "top_25_list = [tup[0] for tup in top_25]\n",
    "\n",
    "# 2. Get the least frequent terms\n",
    "Y = customer['text']\n",
    "vectorizer = CountVectorizer(min_df = 2)\n",
    "matrix = vectorizer.fit_transform(Y)\n",
    "counts = pd.DataFrame(matrix.toarray(), columns = vectorizer.get_feature_names_out())\n",
    "stop_w = list(vectorizer.stop_words_)\n",
    "all_stops = stop_w + top_25_list"
   ]
  },
  {
   "cell_type": "code",
   "execution_count": 19,
   "id": "d1d79e88",
   "metadata": {},
   "outputs": [
    {
     "name": "stdout",
     "output_type": "stream",
     "text": [
      "{'$160.', 'mistakes,', '#payingabillandgettingnothinginreturn', '🤙🏽', 'mins!!', '#threeweeks', '$320', 'https://t.co/XXFAQShfFw', 'Fashooo!', 'ago!!!', '#happenedagainwhiletweeting', \"Hasn't\", 'this).', 'store?!?', '888-211-4727', 'later....', 'Left', \"I'm#stilldealingwith.\", 'suggestion,', '#reset.', 'performed', '28557', '#nopestillnodata', '100000'}\n"
     ]
    }
   ],
   "source": [
    "n_rare_words = 25\n",
    "rare_words = set([w for (w,c) in counter.most_common()][:- n_rare_words: -1])\n",
    "print(rare_words)"
   ]
  },
  {
   "cell_type": "markdown",
   "id": "4e422c43",
   "metadata": {},
   "source": [
    "#### The Twitter dataset has many @something, #something, and URLs. We need to remove them.\n"
   ]
  },
  {
   "cell_type": "code",
   "execution_count": 20,
   "id": "0cfa03ca",
   "metadata": {},
   "outputs": [],
   "source": [
    "customer.reset_index(drop=True, inplace = True)"
   ]
  },
  {
   "cell_type": "code",
   "execution_count": 21,
   "id": "7414e969",
   "metadata": {},
   "outputs": [
    {
     "data": {
      "application/json": {
       "ascii": false,
       "bar_format": null,
       "colour": null,
       "elapsed": 0.027208805084228516,
       "initial": 0,
       "n": 0,
       "ncols": null,
       "nrows": 24,
       "postfix": null,
       "prefix": "",
       "rate": null,
       "total": 13711,
       "unit": "it",
       "unit_divisor": 1000,
       "unit_scale": false
      },
      "application/vnd.jupyter.widget-view+json": {
       "model_id": "c40b94f190114961a1e172f5397e3eac",
       "version_major": 2,
       "version_minor": 0
      },
      "text/plain": [
       "  0%|          | 0/13711 [00:00<?, ?it/s]"
      ]
     },
     "metadata": {},
     "output_type": "display_data"
    }
   ],
   "source": [
    "def clean_twitter(tweet):\n",
    "    clean_tweet = re.sub(\"@[A-Za-z0-9_]+\",\"\", tweet)\n",
    "    clean_tweet = re.sub(\"#[A-Za-z0-9_]+\",\"\", clean_tweet)\n",
    "    words = clean_tweet.split()\n",
    "    words = ' '.join([w for w in words if w not in all_stops])\n",
    "    return words\n",
    "\n",
    "customer['clean'] = customer['text'].progress_apply(lambda tweet: clean_twitter(tweet))"
   ]
  },
  {
   "cell_type": "code",
   "execution_count": 22,
   "id": "21688c3e",
   "metadata": {
    "scrolled": true
   },
   "outputs": [
    {
     "data": {
      "text/html": [
       "<div>\n",
       "<style scoped>\n",
       "    .dataframe tbody tr th:only-of-type {\n",
       "        vertical-align: middle;\n",
       "    }\n",
       "\n",
       "    .dataframe tbody tr th {\n",
       "        vertical-align: top;\n",
       "    }\n",
       "\n",
       "    .dataframe thead th {\n",
       "        text-align: right;\n",
       "    }\n",
       "</style>\n",
       "<table border=\"1\" class=\"dataframe\">\n",
       "  <thead>\n",
       "    <tr style=\"text-align: right;\">\n",
       "      <th></th>\n",
       "      <th>tweet_id</th>\n",
       "      <th>author_id</th>\n",
       "      <th>inbound</th>\n",
       "      <th>created_at</th>\n",
       "      <th>text</th>\n",
       "      <th>response_tweet_id</th>\n",
       "      <th>in_response_to_tweet_id</th>\n",
       "      <th>clean</th>\n",
       "    </tr>\n",
       "  </thead>\n",
       "  <tbody>\n",
       "    <tr>\n",
       "      <th>0</th>\n",
       "      <td>1278330</td>\n",
       "      <td>419157</td>\n",
       "      <td>True</td>\n",
       "      <td>2011-11-28 18:39:16+00:00</td>\n",
       "      <td>@sprintcare I can not make any calls whats the...</td>\n",
       "      <td>1278329</td>\n",
       "      <td>NaN</td>\n",
       "      <td>can make any calls whats problem please let ou...</td>\n",
       "    </tr>\n",
       "    <tr>\n",
       "      <th>1</th>\n",
       "      <td>1544038</td>\n",
       "      <td>478295</td>\n",
       "      <td>True</td>\n",
       "      <td>2015-09-16 02:57:20+00:00</td>\n",
       "      <td>@115714 @sprintcare I get almost no service af...</td>\n",
       "      <td>1544039,1544040,1544041,1544035</td>\n",
       "      <td>NaN</td>\n",
       "      <td>get almost no after moving LA. What wrong awfu...</td>\n",
       "    </tr>\n",
       "    <tr>\n",
       "      <th>2</th>\n",
       "      <td>2753722</td>\n",
       "      <td>770395</td>\n",
       "      <td>True</td>\n",
       "      <td>2015-10-26 17:07:32+00:00</td>\n",
       "      <td>@sprintcare to replace this one without paying...</td>\n",
       "      <td>2753721</td>\n",
       "      <td>2753723.0</td>\n",
       "      <td>replace one without paying an early upgrade fe...</td>\n",
       "    </tr>\n",
       "    <tr>\n",
       "      <th>3</th>\n",
       "      <td>2753720</td>\n",
       "      <td>770395</td>\n",
       "      <td>True</td>\n",
       "      <td>2015-10-26 17:14:03+00:00</td>\n",
       "      <td>@sprintcare done</td>\n",
       "      <td>2753719</td>\n",
       "      <td>2753721.0</td>\n",
       "      <td>done</td>\n",
       "    </tr>\n",
       "    <tr>\n",
       "      <th>4</th>\n",
       "      <td>2753719</td>\n",
       "      <td>770395</td>\n",
       "      <td>True</td>\n",
       "      <td>2015-10-26 17:30:32+00:00</td>\n",
       "      <td>@sprintcare get any early upgrade.  My less th...</td>\n",
       "      <td>2753718</td>\n",
       "      <td>2753720.0</td>\n",
       "      <td>get any early upgrade. My less than year old d...</td>\n",
       "    </tr>\n",
       "    <tr>\n",
       "      <th>5</th>\n",
       "      <td>2753717</td>\n",
       "      <td>770395</td>\n",
       "      <td>True</td>\n",
       "      <td>2015-10-26 19:54:24+00:00</td>\n",
       "      <td>@sprintcare Thanks very much for your help!</td>\n",
       "      <td>2753715</td>\n",
       "      <td>2753718.0</td>\n",
       "      <td>Thanks very much help!</td>\n",
       "    </tr>\n",
       "    <tr>\n",
       "      <th>6</th>\n",
       "      <td>726098</td>\n",
       "      <td>293934</td>\n",
       "      <td>True</td>\n",
       "      <td>2015-10-31 20:20:27+00:00</td>\n",
       "      <td>@sprintcare . I live in a city not BFE and I'm...</td>\n",
       "      <td>726097</td>\n",
       "      <td>NaN</td>\n",
       "      <td>. live city BFE I'm sick tired getting this. h...</td>\n",
       "    </tr>\n",
       "  </tbody>\n",
       "</table>\n",
       "</div>"
      ],
      "text/plain": [
       "   tweet_id author_id  inbound                created_at  \\\n",
       "0   1278330    419157     True 2011-11-28 18:39:16+00:00   \n",
       "1   1544038    478295     True 2015-09-16 02:57:20+00:00   \n",
       "2   2753722    770395     True 2015-10-26 17:07:32+00:00   \n",
       "3   2753720    770395     True 2015-10-26 17:14:03+00:00   \n",
       "4   2753719    770395     True 2015-10-26 17:30:32+00:00   \n",
       "5   2753717    770395     True 2015-10-26 19:54:24+00:00   \n",
       "6    726098    293934     True 2015-10-31 20:20:27+00:00   \n",
       "\n",
       "                                                text  \\\n",
       "0  @sprintcare I can not make any calls whats the...   \n",
       "1  @115714 @sprintcare I get almost no service af...   \n",
       "2  @sprintcare to replace this one without paying...   \n",
       "3                                   @sprintcare done   \n",
       "4  @sprintcare get any early upgrade.  My less th...   \n",
       "5        @sprintcare Thanks very much for your help!   \n",
       "6  @sprintcare . I live in a city not BFE and I'm...   \n",
       "\n",
       "                 response_tweet_id  in_response_to_tweet_id  \\\n",
       "0                          1278329                      NaN   \n",
       "1  1544039,1544040,1544041,1544035                      NaN   \n",
       "2                          2753721                2753723.0   \n",
       "3                          2753719                2753721.0   \n",
       "4                          2753718                2753720.0   \n",
       "5                          2753715                2753718.0   \n",
       "6                           726097                      NaN   \n",
       "\n",
       "                                               clean  \n",
       "0  can make any calls whats problem please let ou...  \n",
       "1  get almost no after moving LA. What wrong awfu...  \n",
       "2  replace one without paying an early upgrade fe...  \n",
       "3                                               done  \n",
       "4  get any early upgrade. My less than year old d...  \n",
       "5                             Thanks very much help!  \n",
       "6  . live city BFE I'm sick tired getting this. h...  "
      ]
     },
     "execution_count": 22,
     "metadata": {},
     "output_type": "execute_result"
    }
   ],
   "source": [
    "customer.head(7)"
   ]
  },
  {
   "cell_type": "markdown",
   "id": "10769375",
   "metadata": {},
   "source": [
    "### run the Vader sentiment analyzer on customer text as a baseline\n",
    "### this function will add the vader compound scores to the dataframe"
   ]
  },
  {
   "cell_type": "code",
   "execution_count": 23,
   "id": "96128466",
   "metadata": {},
   "outputs": [],
   "source": [
    "sentiment_analyzer = SentimentIntensityAnalyzer()\n",
    "def sentiment_analyze(text:  str) -> float:\n",
    "    return sentiment_analyzer.polarity_scores(text)['compound']"
   ]
  },
  {
   "cell_type": "code",
   "execution_count": 24,
   "id": "4a3009b8",
   "metadata": {},
   "outputs": [
    {
     "data": {
      "application/json": {
       "ascii": false,
       "bar_format": null,
       "colour": null,
       "elapsed": 0.019278764724731445,
       "initial": 0,
       "n": 0,
       "ncols": null,
       "nrows": 24,
       "postfix": null,
       "prefix": "",
       "rate": null,
       "total": 13711,
       "unit": "it",
       "unit_divisor": 1000,
       "unit_scale": false
      },
      "application/vnd.jupyter.widget-view+json": {
       "model_id": "683320510d624e47b0a2e38f41caa812",
       "version_major": 2,
       "version_minor": 0
      },
      "text/plain": [
       "  0%|          | 0/13711 [00:00<?, ?it/s]"
      ]
     },
     "metadata": {},
     "output_type": "display_data"
    },
    {
     "data": {
      "application/json": {
       "ascii": false,
       "bar_format": null,
       "colour": null,
       "elapsed": 0.019565105438232422,
       "initial": 0,
       "n": 0,
       "ncols": null,
       "nrows": 24,
       "postfix": null,
       "prefix": "",
       "rate": null,
       "total": 13711,
       "unit": "it",
       "unit_divisor": 1000,
       "unit_scale": false
      },
      "application/vnd.jupyter.widget-view+json": {
       "model_id": "b066e1b2c0a54983b32291951bcb2c03",
       "version_major": 2,
       "version_minor": 0
      },
      "text/plain": [
       "  0%|          | 0/13711 [00:00<?, ?it/s]"
      ]
     },
     "metadata": {},
     "output_type": "display_data"
    }
   ],
   "source": [
    "customer['vader_sentiment_clean'] = customer.clean.progress_apply(sentiment_analyze)\n",
    "customer['vader_sentiment_noclean'] = customer.text.progress_apply(sentiment_analyze)"
   ]
  },
  {
   "cell_type": "code",
   "execution_count": 25,
   "id": "91f832b3",
   "metadata": {
    "scrolled": true
   },
   "outputs": [
    {
     "data": {
      "text/html": [
       "<div>\n",
       "<style scoped>\n",
       "    .dataframe tbody tr th:only-of-type {\n",
       "        vertical-align: middle;\n",
       "    }\n",
       "\n",
       "    .dataframe tbody tr th {\n",
       "        vertical-align: top;\n",
       "    }\n",
       "\n",
       "    .dataframe thead th {\n",
       "        text-align: right;\n",
       "    }\n",
       "</style>\n",
       "<table border=\"1\" class=\"dataframe\">\n",
       "  <thead>\n",
       "    <tr style=\"text-align: right;\">\n",
       "      <th></th>\n",
       "      <th>tweet_id</th>\n",
       "      <th>author_id</th>\n",
       "      <th>text</th>\n",
       "      <th>clean</th>\n",
       "      <th>vader_sentiment_clean</th>\n",
       "      <th>vader_sentiment_noclean</th>\n",
       "    </tr>\n",
       "  </thead>\n",
       "  <tbody>\n",
       "    <tr>\n",
       "      <th>0</th>\n",
       "      <td>1278330</td>\n",
       "      <td>419157</td>\n",
       "      <td>@sprintcare I can not make any calls whats the...</td>\n",
       "      <td>can make any calls whats problem please let ou...</td>\n",
       "      <td>-0.1027</td>\n",
       "      <td>-0.1027</td>\n",
       "    </tr>\n",
       "    <tr>\n",
       "      <th>1</th>\n",
       "      <td>1544038</td>\n",
       "      <td>478295</td>\n",
       "      <td>@115714 @sprintcare I get almost no service af...</td>\n",
       "      <td>get almost no after moving LA. What wrong awfu...</td>\n",
       "      <td>-0.8109</td>\n",
       "      <td>-0.8109</td>\n",
       "    </tr>\n",
       "    <tr>\n",
       "      <th>2</th>\n",
       "      <td>2753722</td>\n",
       "      <td>770395</td>\n",
       "      <td>@sprintcare to replace this one without paying...</td>\n",
       "      <td>replace one without paying an early upgrade fe...</td>\n",
       "      <td>0.0772</td>\n",
       "      <td>0.0772</td>\n",
       "    </tr>\n",
       "    <tr>\n",
       "      <th>3</th>\n",
       "      <td>2753720</td>\n",
       "      <td>770395</td>\n",
       "      <td>@sprintcare done</td>\n",
       "      <td>done</td>\n",
       "      <td>0.0000</td>\n",
       "      <td>0.0000</td>\n",
       "    </tr>\n",
       "    <tr>\n",
       "      <th>4</th>\n",
       "      <td>2753719</td>\n",
       "      <td>770395</td>\n",
       "      <td>@sprintcare get any early upgrade.  My less th...</td>\n",
       "      <td>get any early upgrade. My less than year old d...</td>\n",
       "      <td>0.0000</td>\n",
       "      <td>0.0000</td>\n",
       "    </tr>\n",
       "    <tr>\n",
       "      <th>5</th>\n",
       "      <td>2753717</td>\n",
       "      <td>770395</td>\n",
       "      <td>@sprintcare Thanks very much for your help!</td>\n",
       "      <td>Thanks very much help!</td>\n",
       "      <td>0.7327</td>\n",
       "      <td>0.7088</td>\n",
       "    </tr>\n",
       "    <tr>\n",
       "      <th>6</th>\n",
       "      <td>726098</td>\n",
       "      <td>293934</td>\n",
       "      <td>@sprintcare . I live in a city not BFE and I'm...</td>\n",
       "      <td>. live city BFE I'm sick tired getting this. h...</td>\n",
       "      <td>-0.8893</td>\n",
       "      <td>-0.4085</td>\n",
       "    </tr>\n",
       "    <tr>\n",
       "      <th>7</th>\n",
       "      <td>726097</td>\n",
       "      <td>293934</td>\n",
       "      <td>@sprintcare at my home all day long.</td>\n",
       "      <td>at home all day long.</td>\n",
       "      <td>0.0000</td>\n",
       "      <td>0.0000</td>\n",
       "    </tr>\n",
       "    <tr>\n",
       "      <th>8</th>\n",
       "      <td>726095</td>\n",
       "      <td>293934</td>\n",
       "      <td>@sprintcare it wont help. I've ben reporting s...</td>\n",
       "      <td>wont help. I've ben reporting since last Novem...</td>\n",
       "      <td>-0.6319</td>\n",
       "      <td>-0.6319</td>\n",
       "    </tr>\n",
       "    <tr>\n",
       "      <th>9</th>\n",
       "      <td>726094</td>\n",
       "      <td>293934</td>\n",
       "      <td>@sprintcare again</td>\n",
       "      <td>again</td>\n",
       "      <td>0.0000</td>\n",
       "      <td>0.0000</td>\n",
       "    </tr>\n",
       "  </tbody>\n",
       "</table>\n",
       "</div>"
      ],
      "text/plain": [
       "   tweet_id author_id                                               text  \\\n",
       "0   1278330    419157  @sprintcare I can not make any calls whats the...   \n",
       "1   1544038    478295  @115714 @sprintcare I get almost no service af...   \n",
       "2   2753722    770395  @sprintcare to replace this one without paying...   \n",
       "3   2753720    770395                                   @sprintcare done   \n",
       "4   2753719    770395  @sprintcare get any early upgrade.  My less th...   \n",
       "5   2753717    770395        @sprintcare Thanks very much for your help!   \n",
       "6    726098    293934  @sprintcare . I live in a city not BFE and I'm...   \n",
       "7    726097    293934               @sprintcare at my home all day long.   \n",
       "8    726095    293934  @sprintcare it wont help. I've ben reporting s...   \n",
       "9    726094    293934                                  @sprintcare again   \n",
       "\n",
       "                                               clean  vader_sentiment_clean  \\\n",
       "0  can make any calls whats problem please let ou...                -0.1027   \n",
       "1  get almost no after moving LA. What wrong awfu...                -0.8109   \n",
       "2  replace one without paying an early upgrade fe...                 0.0772   \n",
       "3                                               done                 0.0000   \n",
       "4  get any early upgrade. My less than year old d...                 0.0000   \n",
       "5                             Thanks very much help!                 0.7327   \n",
       "6  . live city BFE I'm sick tired getting this. h...                -0.8893   \n",
       "7                              at home all day long.                 0.0000   \n",
       "8  wont help. I've ben reporting since last Novem...                -0.6319   \n",
       "9                                              again                 0.0000   \n",
       "\n",
       "   vader_sentiment_noclean  \n",
       "0                  -0.1027  \n",
       "1                  -0.8109  \n",
       "2                   0.0772  \n",
       "3                   0.0000  \n",
       "4                   0.0000  \n",
       "5                   0.7088  \n",
       "6                  -0.4085  \n",
       "7                   0.0000  \n",
       "8                  -0.6319  \n",
       "9                   0.0000  "
      ]
     },
     "execution_count": 25,
     "metadata": {},
     "output_type": "execute_result"
    }
   ],
   "source": [
    "# Drop unnecessary columns\n",
    "customer.drop(['inbound', 'created_at', 'response_tweet_id', 'in_response_to_tweet_id'], inplace=True,\n",
    "             axis = 1)\n",
    "customer.head(10)\n"
   ]
  },
  {
   "cell_type": "code",
   "execution_count": 26,
   "id": "83609fed",
   "metadata": {
    "scrolled": true
   },
   "outputs": [
    {
     "data": {
      "text/html": [
       "<div>\n",
       "<style scoped>\n",
       "    .dataframe tbody tr th:only-of-type {\n",
       "        vertical-align: middle;\n",
       "    }\n",
       "\n",
       "    .dataframe tbody tr th {\n",
       "        vertical-align: top;\n",
       "    }\n",
       "\n",
       "    .dataframe thead th {\n",
       "        text-align: right;\n",
       "    }\n",
       "</style>\n",
       "<table border=\"1\" class=\"dataframe\">\n",
       "  <thead>\n",
       "    <tr style=\"text-align: right;\">\n",
       "      <th></th>\n",
       "      <th>tweet_id</th>\n",
       "      <th>author_id</th>\n",
       "      <th>text</th>\n",
       "      <th>clean</th>\n",
       "      <th>vader_sentiment_clean</th>\n",
       "      <th>vader_sentiment_noclean</th>\n",
       "    </tr>\n",
       "  </thead>\n",
       "  <tbody>\n",
       "    <tr>\n",
       "      <th>13706</th>\n",
       "      <td>596987</td>\n",
       "      <td>261524</td>\n",
       "      <td>@sprintcare You guys can’t fix what you’ve don...</td>\n",
       "      <td>You guys can’t fix what you’ve done. I’m alrea...</td>\n",
       "      <td>0.4767</td>\n",
       "      <td>0.4767</td>\n",
       "    </tr>\n",
       "    <tr>\n",
       "      <th>13707</th>\n",
       "      <td>603292</td>\n",
       "      <td>263319</td>\n",
       "      <td>@sprintcare Fashooo! You guys have helped way ...</td>\n",
       "      <td>Fashooo! You guys helped way more than . I'll ...</td>\n",
       "      <td>0.0000</td>\n",
       "      <td>0.0000</td>\n",
       "    </tr>\n",
       "    <tr>\n",
       "      <th>13708</th>\n",
       "      <td>86600</td>\n",
       "      <td>134926</td>\n",
       "      <td>@sprintcare @sprintcare @115714 Do you think y...</td>\n",
       "      <td>Do think you’ll ever put new towers coastal NC...</td>\n",
       "      <td>0.0000</td>\n",
       "      <td>0.0000</td>\n",
       "    </tr>\n",
       "    <tr>\n",
       "      <th>13709</th>\n",
       "      <td>603291</td>\n",
       "      <td>263319</td>\n",
       "      <td>@sprintcare Much appreciated 🤙🏽</td>\n",
       "      <td>Much appreciated 🤙🏽</td>\n",
       "      <td>0.5106</td>\n",
       "      <td>0.5106</td>\n",
       "    </tr>\n",
       "    <tr>\n",
       "      <th>13710</th>\n",
       "      <td>603286</td>\n",
       "      <td>263317</td>\n",
       "      <td>@sprintcare i’ve repeated my problem 100000 ti...</td>\n",
       "      <td>i’ve repeated problem times over doing that.</td>\n",
       "      <td>-0.4019</td>\n",
       "      <td>-0.4019</td>\n",
       "    </tr>\n",
       "  </tbody>\n",
       "</table>\n",
       "</div>"
      ],
      "text/plain": [
       "       tweet_id author_id                                               text  \\\n",
       "13706    596987    261524  @sprintcare You guys can’t fix what you’ve don...   \n",
       "13707    603292    263319  @sprintcare Fashooo! You guys have helped way ...   \n",
       "13708     86600    134926  @sprintcare @sprintcare @115714 Do you think y...   \n",
       "13709    603291    263319                    @sprintcare Much appreciated 🤙🏽   \n",
       "13710    603286    263317  @sprintcare i’ve repeated my problem 100000 ti...   \n",
       "\n",
       "                                                   clean  \\\n",
       "13706  You guys can’t fix what you’ve done. I’m alrea...   \n",
       "13707  Fashooo! You guys helped way more than . I'll ...   \n",
       "13708  Do think you’ll ever put new towers coastal NC...   \n",
       "13709                                Much appreciated 🤙🏽   \n",
       "13710       i’ve repeated problem times over doing that.   \n",
       "\n",
       "       vader_sentiment_clean  vader_sentiment_noclean  \n",
       "13706                 0.4767                   0.4767  \n",
       "13707                 0.0000                   0.0000  \n",
       "13708                 0.0000                   0.0000  \n",
       "13709                 0.5106                   0.5106  \n",
       "13710                -0.4019                  -0.4019  "
      ]
     },
     "execution_count": 26,
     "metadata": {},
     "output_type": "execute_result"
    }
   ],
   "source": [
    "customer.tail()"
   ]
  },
  {
   "cell_type": "code",
   "execution_count": 28,
   "id": "cd3dd52b",
   "metadata": {},
   "outputs": [
    {
     "data": {
      "application/json": {
       "ascii": false,
       "bar_format": null,
       "colour": null,
       "elapsed": 0.01990199089050293,
       "initial": 0,
       "n": 0,
       "ncols": null,
       "nrows": 24,
       "postfix": null,
       "prefix": "",
       "rate": null,
       "total": 1136,
       "unit": "it",
       "unit_divisor": 1000,
       "unit_scale": false
      },
      "application/vnd.jupyter.widget-view+json": {
       "model_id": "34aa5cdfe3df4957a7fff454d2c6ab18",
       "version_major": 2,
       "version_minor": 0
      },
      "text/plain": [
       "  0%|          | 0/1136 [00:00<?, ?it/s]"
      ]
     },
     "metadata": {},
     "output_type": "display_data"
    },
    {
     "name": "stdout",
     "output_type": "stream",
     "text": [
      "Cleaning the data had a 8.285318357523156 percent effect on how the scores were calculated\n"
     ]
    },
    {
     "name": "stderr",
     "output_type": "stream",
     "text": [
      "/tmp/ipykernel_10080/2562101752.py:7: SettingWithCopyWarning: \n",
      "A value is trying to be set on a copy of a slice from a DataFrame.\n",
      "Try using .loc[row_indexer,col_indexer] = value instead\n",
      "\n",
      "See the caveats in the documentation: https://pandas.pydata.org/pandas-docs/stable/user_guide/indexing.html#returning-a-view-versus-a-copy\n",
      "  temp['vader_compare']= temp.progress_apply(lambda x:  compare_vader(x['vader_sentiment_clean'],\n"
     ]
    }
   ],
   "source": [
    "# Examine the results to determine if there are any significant differences\n",
    "temp = customer.loc[(customer['vader_sentiment_clean'])!=(customer['vader_sentiment_noclean'])]\n",
    "\n",
    "# Helper function to compare the differences in results of each model input\n",
    "def compare_vader(num_a:  float, num_b:  float)-> float:\n",
    "    diff = abs(num_a-num_b) \n",
    "    return diff\n",
    "temp['vader_compare']= temp.progress_apply(lambda x:  compare_vader(x['vader_sentiment_clean'], x ['vader_sentiment_noclean']), axis = 1)\n",
    "print (\"Cleaning the data had a\", ((temp.shape[0] / customer.shape[0])* 100), \"percent effect on how the scores were calculated\")"
   ]
  },
  {
   "cell_type": "code",
   "execution_count": 29,
   "id": "114bf47f",
   "metadata": {},
   "outputs": [
    {
     "name": "stdout",
     "output_type": "stream",
     "text": [
      "can make any calls whats problem please let out contact\n",
      "@sprintcare I can not make any calls whats the problem #sprint #4G @115714 please let me out of my contact\n"
     ]
    }
   ],
   "source": [
    "print(customer.loc[0]['clean'])\n",
    "print(customer.loc[0]['text'])"
   ]
  },
  {
   "cell_type": "code",
   "execution_count": 30,
   "id": "f79200e0",
   "metadata": {},
   "outputs": [
    {
     "data": {
      "text/plain": [
       "-0.1027"
      ]
     },
     "execution_count": 30,
     "metadata": {},
     "output_type": "execute_result"
    }
   ],
   "source": [
    "customer.loc[0]['vader_sentiment_clean']"
   ]
  },
  {
   "cell_type": "code",
   "execution_count": 31,
   "id": "45f57d3b",
   "metadata": {},
   "outputs": [
    {
     "data": {
      "text/plain": [
       "'get almost no after moving LA. What wrong awful coverage? Why should stay guys?'"
      ]
     },
     "execution_count": 31,
     "metadata": {},
     "output_type": "execute_result"
    }
   ],
   "source": [
    "customer.clean[1]"
   ]
  },
  {
   "cell_type": "code",
   "execution_count": 32,
   "id": "3b1d4cb4",
   "metadata": {},
   "outputs": [
    {
     "data": {
      "text/plain": [
       "-0.8109"
      ]
     },
     "execution_count": 32,
     "metadata": {},
     "output_type": "execute_result"
    }
   ],
   "source": [
    "customer.vader_sentiment_clean[1]"
   ]
  },
  {
   "cell_type": "code",
   "execution_count": 33,
   "id": "c0558068",
   "metadata": {},
   "outputs": [
    {
     "data": {
      "text/plain": [
       "'get any early upgrade. My less than year old does work? How right? You already $400 $$'"
      ]
     },
     "execution_count": 33,
     "metadata": {},
     "output_type": "execute_result"
    }
   ],
   "source": [
    "customer.clean[4]"
   ]
  },
  {
   "cell_type": "code",
   "execution_count": 34,
   "id": "efe4287c",
   "metadata": {},
   "outputs": [
    {
     "data": {
      "text/plain": [
       "0.0"
      ]
     },
     "execution_count": 34,
     "metadata": {},
     "output_type": "execute_result"
    }
   ],
   "source": [
    "customer.vader_sentiment_clean[4]"
   ]
  },
  {
   "cell_type": "code",
   "execution_count": 35,
   "id": "32b0f893",
   "metadata": {},
   "outputs": [],
   "source": [
    "### Assign Vader compound scores to positive(2), negative(1) or neutral class(0)"
   ]
  },
  {
   "cell_type": "code",
   "execution_count": 36,
   "id": "970423bd",
   "metadata": {},
   "outputs": [
    {
     "data": {
      "application/json": {
       "ascii": false,
       "bar_format": null,
       "colour": null,
       "elapsed": 0.020241260528564453,
       "initial": 0,
       "n": 0,
       "ncols": null,
       "nrows": 24,
       "postfix": null,
       "prefix": "",
       "rate": null,
       "total": 13711,
       "unit": "it",
       "unit_divisor": 1000,
       "unit_scale": false
      },
      "application/vnd.jupyter.widget-view+json": {
       "model_id": "7c21cacd9c4849eeb10edf3e59a86e10",
       "version_major": 2,
       "version_minor": 0
      },
      "text/plain": [
       "  0%|          | 0/13711 [00:00<?, ?it/s]"
      ]
     },
     "metadata": {},
     "output_type": "display_data"
    },
    {
     "data": {
      "application/json": {
       "ascii": false,
       "bar_format": null,
       "colour": null,
       "elapsed": 0.019523143768310547,
       "initial": 0,
       "n": 0,
       "ncols": null,
       "nrows": 24,
       "postfix": null,
       "prefix": "",
       "rate": null,
       "total": 13711,
       "unit": "it",
       "unit_divisor": 1000,
       "unit_scale": false
      },
      "application/vnd.jupyter.widget-view+json": {
       "model_id": "61048c321d2c402194cddfdd55db0931",
       "version_major": 2,
       "version_minor": 0
      },
      "text/plain": [
       "  0%|          | 0/13711 [00:00<?, ?it/s]"
      ]
     },
     "metadata": {},
     "output_type": "display_data"
    }
   ],
   "source": [
    "# # Fill the value with 1 if vader_no_cleaned > 0 else with 0 (negative)\n",
    "customer['clean_class']= customer['vader_sentiment_clean'].progress_apply(lambda c:  2 if c >0 else 1 if c ==0 else 0)\n",
    "customer['noclean_class']= customer['vader_sentiment_noclean'].progress_apply(lambda c:  2 if c >0 else 1 if c ==0 else 0)"
   ]
  },
  {
   "cell_type": "code",
   "execution_count": 37,
   "id": "033ed66a",
   "metadata": {},
   "outputs": [
    {
     "data": {
      "application/json": {
       "ascii": false,
       "bar_format": null,
       "colour": null,
       "elapsed": 0.021512985229492188,
       "initial": 0,
       "n": 0,
       "ncols": null,
       "nrows": 24,
       "postfix": null,
       "prefix": "",
       "rate": null,
       "total": 13711,
       "unit": "it",
       "unit_divisor": 1000,
       "unit_scale": false
      },
      "application/vnd.jupyter.widget-view+json": {
       "model_id": "52b3064384c2487280e1aa45754f4e26",
       "version_major": 2,
       "version_minor": 0
      },
      "text/plain": [
       "  0%|          | 0/13711 [00:00<?, ?it/s]"
      ]
     },
     "metadata": {},
     "output_type": "display_data"
    }
   ],
   "source": [
    "# Identify any classifications that do not agree\n",
    "customer['vader_class_compare']= customer.progress_apply(lambda x: compare_vader(x['clean_class'], x ['noclean_class']), axis = 1)"
   ]
  },
  {
   "cell_type": "code",
   "execution_count": 38,
   "id": "16cbb516",
   "metadata": {
    "scrolled": true
   },
   "outputs": [
    {
     "data": {
      "text/html": [
       "<div>\n",
       "<style scoped>\n",
       "    .dataframe tbody tr th:only-of-type {\n",
       "        vertical-align: middle;\n",
       "    }\n",
       "\n",
       "    .dataframe tbody tr th {\n",
       "        vertical-align: top;\n",
       "    }\n",
       "\n",
       "    .dataframe thead th {\n",
       "        text-align: right;\n",
       "    }\n",
       "</style>\n",
       "<table border=\"1\" class=\"dataframe\">\n",
       "  <thead>\n",
       "    <tr style=\"text-align: right;\">\n",
       "      <th></th>\n",
       "      <th>tweet_id</th>\n",
       "      <th>author_id</th>\n",
       "      <th>text</th>\n",
       "      <th>clean</th>\n",
       "      <th>vader_sentiment_clean</th>\n",
       "      <th>vader_sentiment_noclean</th>\n",
       "      <th>clean_class</th>\n",
       "      <th>noclean_class</th>\n",
       "      <th>vader_class_compare</th>\n",
       "    </tr>\n",
       "  </thead>\n",
       "  <tbody>\n",
       "    <tr>\n",
       "      <th>0</th>\n",
       "      <td>1278330</td>\n",
       "      <td>419157</td>\n",
       "      <td>@sprintcare I can not make any calls whats the...</td>\n",
       "      <td>can make any calls whats problem please let ou...</td>\n",
       "      <td>-0.1027</td>\n",
       "      <td>-0.1027</td>\n",
       "      <td>0</td>\n",
       "      <td>0</td>\n",
       "      <td>0</td>\n",
       "    </tr>\n",
       "    <tr>\n",
       "      <th>1</th>\n",
       "      <td>1544038</td>\n",
       "      <td>478295</td>\n",
       "      <td>@115714 @sprintcare I get almost no service af...</td>\n",
       "      <td>get almost no after moving LA. What wrong awfu...</td>\n",
       "      <td>-0.8109</td>\n",
       "      <td>-0.8109</td>\n",
       "      <td>0</td>\n",
       "      <td>0</td>\n",
       "      <td>0</td>\n",
       "    </tr>\n",
       "    <tr>\n",
       "      <th>2</th>\n",
       "      <td>2753722</td>\n",
       "      <td>770395</td>\n",
       "      <td>@sprintcare to replace this one without paying...</td>\n",
       "      <td>replace one without paying an early upgrade fe...</td>\n",
       "      <td>0.0772</td>\n",
       "      <td>0.0772</td>\n",
       "      <td>2</td>\n",
       "      <td>2</td>\n",
       "      <td>0</td>\n",
       "    </tr>\n",
       "    <tr>\n",
       "      <th>3</th>\n",
       "      <td>2753720</td>\n",
       "      <td>770395</td>\n",
       "      <td>@sprintcare done</td>\n",
       "      <td>done</td>\n",
       "      <td>0.0000</td>\n",
       "      <td>0.0000</td>\n",
       "      <td>1</td>\n",
       "      <td>1</td>\n",
       "      <td>0</td>\n",
       "    </tr>\n",
       "    <tr>\n",
       "      <th>4</th>\n",
       "      <td>2753719</td>\n",
       "      <td>770395</td>\n",
       "      <td>@sprintcare get any early upgrade.  My less th...</td>\n",
       "      <td>get any early upgrade. My less than year old d...</td>\n",
       "      <td>0.0000</td>\n",
       "      <td>0.0000</td>\n",
       "      <td>1</td>\n",
       "      <td>1</td>\n",
       "      <td>0</td>\n",
       "    </tr>\n",
       "    <tr>\n",
       "      <th>5</th>\n",
       "      <td>2753717</td>\n",
       "      <td>770395</td>\n",
       "      <td>@sprintcare Thanks very much for your help!</td>\n",
       "      <td>Thanks very much help!</td>\n",
       "      <td>0.7327</td>\n",
       "      <td>0.7088</td>\n",
       "      <td>2</td>\n",
       "      <td>2</td>\n",
       "      <td>0</td>\n",
       "    </tr>\n",
       "    <tr>\n",
       "      <th>6</th>\n",
       "      <td>726098</td>\n",
       "      <td>293934</td>\n",
       "      <td>@sprintcare . I live in a city not BFE and I'm...</td>\n",
       "      <td>. live city BFE I'm sick tired getting this. h...</td>\n",
       "      <td>-0.8893</td>\n",
       "      <td>-0.4085</td>\n",
       "      <td>0</td>\n",
       "      <td>0</td>\n",
       "      <td>0</td>\n",
       "    </tr>\n",
       "    <tr>\n",
       "      <th>7</th>\n",
       "      <td>726097</td>\n",
       "      <td>293934</td>\n",
       "      <td>@sprintcare at my home all day long.</td>\n",
       "      <td>at home all day long.</td>\n",
       "      <td>0.0000</td>\n",
       "      <td>0.0000</td>\n",
       "      <td>1</td>\n",
       "      <td>1</td>\n",
       "      <td>0</td>\n",
       "    </tr>\n",
       "    <tr>\n",
       "      <th>8</th>\n",
       "      <td>726095</td>\n",
       "      <td>293934</td>\n",
       "      <td>@sprintcare it wont help. I've ben reporting s...</td>\n",
       "      <td>wont help. I've ben reporting since last Novem...</td>\n",
       "      <td>-0.6319</td>\n",
       "      <td>-0.6319</td>\n",
       "      <td>0</td>\n",
       "      <td>0</td>\n",
       "      <td>0</td>\n",
       "    </tr>\n",
       "    <tr>\n",
       "      <th>9</th>\n",
       "      <td>726094</td>\n",
       "      <td>293934</td>\n",
       "      <td>@sprintcare again</td>\n",
       "      <td>again</td>\n",
       "      <td>0.0000</td>\n",
       "      <td>0.0000</td>\n",
       "      <td>1</td>\n",
       "      <td>1</td>\n",
       "      <td>0</td>\n",
       "    </tr>\n",
       "  </tbody>\n",
       "</table>\n",
       "</div>"
      ],
      "text/plain": [
       "   tweet_id author_id                                               text  \\\n",
       "0   1278330    419157  @sprintcare I can not make any calls whats the...   \n",
       "1   1544038    478295  @115714 @sprintcare I get almost no service af...   \n",
       "2   2753722    770395  @sprintcare to replace this one without paying...   \n",
       "3   2753720    770395                                   @sprintcare done   \n",
       "4   2753719    770395  @sprintcare get any early upgrade.  My less th...   \n",
       "5   2753717    770395        @sprintcare Thanks very much for your help!   \n",
       "6    726098    293934  @sprintcare . I live in a city not BFE and I'm...   \n",
       "7    726097    293934               @sprintcare at my home all day long.   \n",
       "8    726095    293934  @sprintcare it wont help. I've ben reporting s...   \n",
       "9    726094    293934                                  @sprintcare again   \n",
       "\n",
       "                                               clean  vader_sentiment_clean  \\\n",
       "0  can make any calls whats problem please let ou...                -0.1027   \n",
       "1  get almost no after moving LA. What wrong awfu...                -0.8109   \n",
       "2  replace one without paying an early upgrade fe...                 0.0772   \n",
       "3                                               done                 0.0000   \n",
       "4  get any early upgrade. My less than year old d...                 0.0000   \n",
       "5                             Thanks very much help!                 0.7327   \n",
       "6  . live city BFE I'm sick tired getting this. h...                -0.8893   \n",
       "7                              at home all day long.                 0.0000   \n",
       "8  wont help. I've ben reporting since last Novem...                -0.6319   \n",
       "9                                              again                 0.0000   \n",
       "\n",
       "   vader_sentiment_noclean  clean_class  noclean_class  vader_class_compare  \n",
       "0                  -0.1027            0              0                    0  \n",
       "1                  -0.8109            0              0                    0  \n",
       "2                   0.0772            2              2                    0  \n",
       "3                   0.0000            1              1                    0  \n",
       "4                   0.0000            1              1                    0  \n",
       "5                   0.7088            2              2                    0  \n",
       "6                  -0.4085            0              0                    0  \n",
       "7                   0.0000            1              1                    0  \n",
       "8                  -0.6319            0              0                    0  \n",
       "9                   0.0000            1              1                    0  "
      ]
     },
     "execution_count": 38,
     "metadata": {},
     "output_type": "execute_result"
    }
   ],
   "source": [
    "customer.head(10)"
   ]
  },
  {
   "cell_type": "markdown",
   "id": "30b51878",
   "metadata": {},
   "source": [
    "###  Print out the total number of Vader predictions against unclean and clean data "
   ]
  },
  {
   "cell_type": "code",
   "execution_count": 39,
   "id": "49f6d2c9",
   "metadata": {},
   "outputs": [
    {
     "name": "stdout",
     "output_type": "stream",
     "text": [
      "416\n",
      "Cleaning the data had a 3.0340602436000292 percent effect on Vader predictions\n"
     ]
    }
   ],
   "source": [
    "analyze_diff = customer.loc[(customer['clean_class'])!=(customer['noclean_class'])]\n",
    "\n",
    "print(analyze_diff.shape[0])\n",
    "\n",
    "print (\"Cleaning the data had a\", ((analyze_diff.shape[0] / customer.shape[0])* 100), \"percent effect on Vader predictions\")\n",
    "\n",
    "analyze_diff.reset_index(drop=True, inplace = True)"
   ]
  },
  {
   "cell_type": "markdown",
   "id": "5e566b8a",
   "metadata": {},
   "source": [
    "### Evaluate the dataset for balance; both datasets should be fairly balanced"
   ]
  },
  {
   "cell_type": "code",
   "execution_count": 40,
   "id": "1fa7af0a",
   "metadata": {},
   "outputs": [
    {
     "name": "stdout",
     "output_type": "stream",
     "text": [
      "[4839, 4617, 4255]\n",
      "[4709, 4553, 4449]\n"
     ]
    }
   ],
   "source": [
    "# count the number of unique values for classes to evaluate balance of data\n",
    "# data classes are fairly evenly distributed\n",
    "li = list(customer['clean_class'].value_counts())\n",
    "li2 = list(customer['noclean_class'].value_counts())\n",
    "print (li)\n",
    "print (li2)"
   ]
  },
  {
   "cell_type": "markdown",
   "id": "2c28b916",
   "metadata": {},
   "source": [
    "### Run the Transformer model"
   ]
  },
  {
   "cell_type": "code",
   "execution_count": 43,
   "id": "13e92cf3",
   "metadata": {
    "scrolled": true
   },
   "outputs": [
    {
     "name": "stderr",
     "output_type": "stream",
     "text": [
      "Some weights of the model checkpoint at cardiffnlp/twitter-roberta-base-sentiment-latest were not used when initializing RobertaForSequenceClassification: ['roberta.pooler.dense.weight', 'roberta.pooler.dense.bias']\n",
      "- This IS expected if you are initializing RobertaForSequenceClassification from the checkpoint of a model trained on another task or with another architecture (e.g. initializing a BertForSequenceClassification model from a BertForPreTraining model).\n",
      "- This IS NOT expected if you are initializing RobertaForSequenceClassification from the checkpoint of a model that you expect to be exactly identical (initializing a BertForSequenceClassification model from a BertForSequenceClassification model).\n"
     ]
    },
    {
     "data": {
      "text/plain": [
       "[{'label': 'negative', 'score': 0.9258463978767395}]"
      ]
     },
     "execution_count": 43,
     "metadata": {},
     "output_type": "execute_result"
    }
   ],
   "source": [
    "from transformers import AutoTokenizer, AutoModelForSequenceClassification, pipeline\n",
    "tokenizer = AutoTokenizer.from_pretrained(\"cardiffnlp/twitter-roberta-base-sentiment-latest\")\n",
    "model = AutoModelForSequenceClassification.from_pretrained(\"cardiffnlp/twitter-roberta-base-sentiment-latest\")\n",
    "sentiment_task = pipeline(\"sentiment-analysis\", model=model, tokenizer=tokenizer)\n",
    "sentiment_task(\"get any early upgrade. My less than a year old phone does not work? How is this right? You already have $400 of my $$\")"
   ]
  },
  {
   "cell_type": "code",
   "execution_count": 101,
   "id": "c33afc82",
   "metadata": {},
   "outputs": [
    {
     "data": {
      "text/plain": [
       "[{'label': 'neutral', 'score': 0.6042205691337585}]"
      ]
     },
     "execution_count": 101,
     "metadata": {},
     "output_type": "execute_result"
    }
   ],
   "source": [
    "# This is a test of the sentiment analysis\n",
    "sentiment_task(\"I'm here\")"
   ]
  },
  {
   "cell_type": "code",
   "execution_count": 100,
   "id": "3d629165",
   "metadata": {},
   "outputs": [
    {
     "data": {
      "application/json": {
       "ascii": false,
       "bar_format": null,
       "colour": null,
       "elapsed": 0.020537137985229492,
       "initial": 0,
       "n": 0,
       "ncols": null,
       "nrows": 24,
       "postfix": null,
       "prefix": "",
       "rate": null,
       "total": 13711,
       "unit": "it",
       "unit_divisor": 1000,
       "unit_scale": false
      },
      "application/vnd.jupyter.widget-view+json": {
       "model_id": "4901011df50b46b5a2674906d33e97f3",
       "version_major": 2,
       "version_minor": 0
      },
      "text/plain": [
       "  0%|          | 0/13711 [00:00<?, ?it/s]"
      ]
     },
     "metadata": {},
     "output_type": "display_data"
    },
    {
     "data": {
      "application/json": {
       "ascii": false,
       "bar_format": null,
       "colour": null,
       "elapsed": 0.019702911376953125,
       "initial": 0,
       "n": 0,
       "ncols": null,
       "nrows": 24,
       "postfix": null,
       "prefix": "",
       "rate": null,
       "total": 13711,
       "unit": "it",
       "unit_divisor": 1000,
       "unit_scale": false
      },
      "application/vnd.jupyter.widget-view+json": {
       "model_id": "81f0804fedba4f22b25e6c2fcb973f90",
       "version_major": 2,
       "version_minor": 0
      },
      "text/plain": [
       "  0%|          | 0/13711 [00:00<?, ?it/s]"
      ]
     },
     "metadata": {},
     "output_type": "display_data"
    },
    {
     "name": "stdout",
     "output_type": "stream",
     "text": [
      "--- 1859.7642531394958 seconds ---\n"
     ]
    }
   ],
   "source": [
    "import time\n",
    "start_time = time.time()\n",
    "\n",
    "customer['roberta_pred'] = customer['clean'].progress_apply(sentiment_task)\n",
    "customer['roberta_pred_no_clean'] = customer['text'].progress_apply(sentiment_task)\n",
    "\n",
    "print(\"--- %s seconds ---\" % (time.time() - start_time))"
   ]
  },
  {
   "cell_type": "code",
   "execution_count": null,
   "id": "83e3d6e9",
   "metadata": {},
   "outputs": [],
   "source": [
    "customer.head()"
   ]
  },
  {
   "cell_type": "code",
   "execution_count": 47,
   "id": "90a86395",
   "metadata": {},
   "outputs": [],
   "source": [
    "# Break the list of dictionaries into new classified columns\n",
    "customer[['r_clean_format_label', 'r_clean_format_score']] = customer['roberta_pred'].agg(pd.Series)[0].agg(pd.Series)                                                              \n",
    "customer[['r_noclean_label', 'r_noclean_score']] = customer['roberta_pred_no_clean'].agg(pd.Series)[0].agg(pd.Series)"
   ]
  },
  {
   "cell_type": "code",
   "execution_count": 48,
   "id": "c4d13435",
   "metadata": {
    "scrolled": true
   },
   "outputs": [
    {
     "data": {
      "text/html": [
       "<div>\n",
       "<style scoped>\n",
       "    .dataframe tbody tr th:only-of-type {\n",
       "        vertical-align: middle;\n",
       "    }\n",
       "\n",
       "    .dataframe tbody tr th {\n",
       "        vertical-align: top;\n",
       "    }\n",
       "\n",
       "    .dataframe thead th {\n",
       "        text-align: right;\n",
       "    }\n",
       "</style>\n",
       "<table border=\"1\" class=\"dataframe\">\n",
       "  <thead>\n",
       "    <tr style=\"text-align: right;\">\n",
       "      <th></th>\n",
       "      <th>tweet_id</th>\n",
       "      <th>author_id</th>\n",
       "      <th>text</th>\n",
       "      <th>clean</th>\n",
       "      <th>vader_sentiment_clean</th>\n",
       "      <th>vader_sentiment_noclean</th>\n",
       "      <th>clean_class</th>\n",
       "      <th>noclean_class</th>\n",
       "      <th>vader_class_compare</th>\n",
       "      <th>roberta_pred</th>\n",
       "      <th>roberta_pred_no_clean</th>\n",
       "      <th>r_clean_format_label</th>\n",
       "      <th>r_clean_format_score</th>\n",
       "      <th>r_noclean_label</th>\n",
       "      <th>r_noclean_score</th>\n",
       "    </tr>\n",
       "  </thead>\n",
       "  <tbody>\n",
       "    <tr>\n",
       "      <th>0</th>\n",
       "      <td>1278330</td>\n",
       "      <td>419157</td>\n",
       "      <td>@sprintcare I can not make any calls whats the...</td>\n",
       "      <td>can make any calls whats problem please let ou...</td>\n",
       "      <td>-0.1027</td>\n",
       "      <td>-0.1027</td>\n",
       "      <td>0</td>\n",
       "      <td>0</td>\n",
       "      <td>0</td>\n",
       "      <td>[{'label': 'neutral', 'score': 0.6446839570999...</td>\n",
       "      <td>[{'label': 'negative', 'score': 0.826441466808...</td>\n",
       "      <td>neutral</td>\n",
       "      <td>0.644684</td>\n",
       "      <td>negative</td>\n",
       "      <td>0.826441</td>\n",
       "    </tr>\n",
       "    <tr>\n",
       "      <th>1</th>\n",
       "      <td>1544038</td>\n",
       "      <td>478295</td>\n",
       "      <td>@115714 @sprintcare I get almost no service af...</td>\n",
       "      <td>get almost no after moving LA. What wrong awfu...</td>\n",
       "      <td>-0.8109</td>\n",
       "      <td>-0.8109</td>\n",
       "      <td>0</td>\n",
       "      <td>0</td>\n",
       "      <td>0</td>\n",
       "      <td>[{'label': 'negative', 'score': 0.937077283859...</td>\n",
       "      <td>[{'label': 'negative', 'score': 0.957944631576...</td>\n",
       "      <td>negative</td>\n",
       "      <td>0.937077</td>\n",
       "      <td>negative</td>\n",
       "      <td>0.957945</td>\n",
       "    </tr>\n",
       "    <tr>\n",
       "      <th>2</th>\n",
       "      <td>2753722</td>\n",
       "      <td>770395</td>\n",
       "      <td>@sprintcare to replace this one without paying...</td>\n",
       "      <td>replace one without paying an early upgrade fe...</td>\n",
       "      <td>0.0772</td>\n",
       "      <td>0.0772</td>\n",
       "      <td>2</td>\n",
       "      <td>2</td>\n",
       "      <td>0</td>\n",
       "      <td>[{'label': 'neutral', 'score': 0.5881701707839...</td>\n",
       "      <td>[{'label': 'negative', 'score': 0.630531489849...</td>\n",
       "      <td>neutral</td>\n",
       "      <td>0.588170</td>\n",
       "      <td>negative</td>\n",
       "      <td>0.630531</td>\n",
       "    </tr>\n",
       "    <tr>\n",
       "      <th>3</th>\n",
       "      <td>2753720</td>\n",
       "      <td>770395</td>\n",
       "      <td>@sprintcare done</td>\n",
       "      <td>done</td>\n",
       "      <td>0.0000</td>\n",
       "      <td>0.0000</td>\n",
       "      <td>1</td>\n",
       "      <td>1</td>\n",
       "      <td>0</td>\n",
       "      <td>[{'label': 'positive', 'score': 0.446636557579...</td>\n",
       "      <td>[{'label': 'neutral', 'score': 0.7879336476325...</td>\n",
       "      <td>positive</td>\n",
       "      <td>0.446637</td>\n",
       "      <td>neutral</td>\n",
       "      <td>0.787934</td>\n",
       "    </tr>\n",
       "    <tr>\n",
       "      <th>4</th>\n",
       "      <td>2753719</td>\n",
       "      <td>770395</td>\n",
       "      <td>@sprintcare get any early upgrade.  My less th...</td>\n",
       "      <td>get any early upgrade. My less than year old d...</td>\n",
       "      <td>0.0000</td>\n",
       "      <td>0.0000</td>\n",
       "      <td>1</td>\n",
       "      <td>1</td>\n",
       "      <td>0</td>\n",
       "      <td>[{'label': 'negative', 'score': 0.476427942514...</td>\n",
       "      <td>[{'label': 'negative', 'score': 0.936681628227...</td>\n",
       "      <td>negative</td>\n",
       "      <td>0.476428</td>\n",
       "      <td>negative</td>\n",
       "      <td>0.936682</td>\n",
       "    </tr>\n",
       "  </tbody>\n",
       "</table>\n",
       "</div>"
      ],
      "text/plain": [
       "   tweet_id author_id                                               text  \\\n",
       "0   1278330    419157  @sprintcare I can not make any calls whats the...   \n",
       "1   1544038    478295  @115714 @sprintcare I get almost no service af...   \n",
       "2   2753722    770395  @sprintcare to replace this one without paying...   \n",
       "3   2753720    770395                                   @sprintcare done   \n",
       "4   2753719    770395  @sprintcare get any early upgrade.  My less th...   \n",
       "\n",
       "                                               clean  vader_sentiment_clean  \\\n",
       "0  can make any calls whats problem please let ou...                -0.1027   \n",
       "1  get almost no after moving LA. What wrong awfu...                -0.8109   \n",
       "2  replace one without paying an early upgrade fe...                 0.0772   \n",
       "3                                               done                 0.0000   \n",
       "4  get any early upgrade. My less than year old d...                 0.0000   \n",
       "\n",
       "   vader_sentiment_noclean  clean_class  noclean_class  vader_class_compare  \\\n",
       "0                  -0.1027            0              0                    0   \n",
       "1                  -0.8109            0              0                    0   \n",
       "2                   0.0772            2              2                    0   \n",
       "3                   0.0000            1              1                    0   \n",
       "4                   0.0000            1              1                    0   \n",
       "\n",
       "                                        roberta_pred  \\\n",
       "0  [{'label': 'neutral', 'score': 0.6446839570999...   \n",
       "1  [{'label': 'negative', 'score': 0.937077283859...   \n",
       "2  [{'label': 'neutral', 'score': 0.5881701707839...   \n",
       "3  [{'label': 'positive', 'score': 0.446636557579...   \n",
       "4  [{'label': 'negative', 'score': 0.476427942514...   \n",
       "\n",
       "                               roberta_pred_no_clean r_clean_format_label  \\\n",
       "0  [{'label': 'negative', 'score': 0.826441466808...              neutral   \n",
       "1  [{'label': 'negative', 'score': 0.957944631576...             negative   \n",
       "2  [{'label': 'negative', 'score': 0.630531489849...              neutral   \n",
       "3  [{'label': 'neutral', 'score': 0.7879336476325...             positive   \n",
       "4  [{'label': 'negative', 'score': 0.936681628227...             negative   \n",
       "\n",
       "   r_clean_format_score r_noclean_label  r_noclean_score  \n",
       "0              0.644684        negative         0.826441  \n",
       "1              0.937077        negative         0.957945  \n",
       "2              0.588170        negative         0.630531  \n",
       "3              0.446637         neutral         0.787934  \n",
       "4              0.476428        negative         0.936682  "
      ]
     },
     "execution_count": 48,
     "metadata": {},
     "output_type": "execute_result"
    }
   ],
   "source": [
    "customer.head()"
   ]
  },
  {
   "cell_type": "code",
   "execution_count": 49,
   "id": "b52ab078",
   "metadata": {},
   "outputs": [],
   "source": [
    "# Fill the value with 2 if label == POSITIVE, 1 if label == NEUTRAL else with 0 (NEGATIVE)\n",
    "\n",
    "customer['roberta_class_clean']= customer['r_clean_format_label'].apply(lambda c:  2 if c == 'positive' else 1 if c =='neutral' else 0)\n",
    "customer['roberta_class_noclean']= customer['r_noclean_label'].apply(lambda c:  2 if c == 'positive' else 1 if c =='neutral' else 0)"
   ]
  },
  {
   "cell_type": "code",
   "execution_count": 50,
   "id": "bb4f9153",
   "metadata": {
    "scrolled": true
   },
   "outputs": [
    {
     "data": {
      "text/html": [
       "<div>\n",
       "<style scoped>\n",
       "    .dataframe tbody tr th:only-of-type {\n",
       "        vertical-align: middle;\n",
       "    }\n",
       "\n",
       "    .dataframe tbody tr th {\n",
       "        vertical-align: top;\n",
       "    }\n",
       "\n",
       "    .dataframe thead th {\n",
       "        text-align: right;\n",
       "    }\n",
       "</style>\n",
       "<table border=\"1\" class=\"dataframe\">\n",
       "  <thead>\n",
       "    <tr style=\"text-align: right;\">\n",
       "      <th></th>\n",
       "      <th>tweet_id</th>\n",
       "      <th>author_id</th>\n",
       "      <th>text</th>\n",
       "      <th>clean</th>\n",
       "      <th>vader_sentiment_clean</th>\n",
       "      <th>vader_sentiment_noclean</th>\n",
       "      <th>clean_class</th>\n",
       "      <th>noclean_class</th>\n",
       "      <th>vader_class_compare</th>\n",
       "      <th>roberta_pred</th>\n",
       "      <th>roberta_pred_no_clean</th>\n",
       "      <th>r_clean_format_label</th>\n",
       "      <th>r_clean_format_score</th>\n",
       "      <th>r_noclean_label</th>\n",
       "      <th>r_noclean_score</th>\n",
       "      <th>roberta_class_clean</th>\n",
       "      <th>roberta_class_noclean</th>\n",
       "    </tr>\n",
       "  </thead>\n",
       "  <tbody>\n",
       "    <tr>\n",
       "      <th>0</th>\n",
       "      <td>1278330</td>\n",
       "      <td>419157</td>\n",
       "      <td>@sprintcare I can not make any calls whats the...</td>\n",
       "      <td>can make any calls whats problem please let ou...</td>\n",
       "      <td>-0.1027</td>\n",
       "      <td>-0.1027</td>\n",
       "      <td>0</td>\n",
       "      <td>0</td>\n",
       "      <td>0</td>\n",
       "      <td>[{'label': 'neutral', 'score': 0.6446839570999...</td>\n",
       "      <td>[{'label': 'negative', 'score': 0.826441466808...</td>\n",
       "      <td>neutral</td>\n",
       "      <td>0.644684</td>\n",
       "      <td>negative</td>\n",
       "      <td>0.826441</td>\n",
       "      <td>1</td>\n",
       "      <td>0</td>\n",
       "    </tr>\n",
       "    <tr>\n",
       "      <th>1</th>\n",
       "      <td>1544038</td>\n",
       "      <td>478295</td>\n",
       "      <td>@115714 @sprintcare I get almost no service af...</td>\n",
       "      <td>get almost no after moving LA. What wrong awfu...</td>\n",
       "      <td>-0.8109</td>\n",
       "      <td>-0.8109</td>\n",
       "      <td>0</td>\n",
       "      <td>0</td>\n",
       "      <td>0</td>\n",
       "      <td>[{'label': 'negative', 'score': 0.937077283859...</td>\n",
       "      <td>[{'label': 'negative', 'score': 0.957944631576...</td>\n",
       "      <td>negative</td>\n",
       "      <td>0.937077</td>\n",
       "      <td>negative</td>\n",
       "      <td>0.957945</td>\n",
       "      <td>0</td>\n",
       "      <td>0</td>\n",
       "    </tr>\n",
       "  </tbody>\n",
       "</table>\n",
       "</div>"
      ],
      "text/plain": [
       "   tweet_id author_id                                               text  \\\n",
       "0   1278330    419157  @sprintcare I can not make any calls whats the...   \n",
       "1   1544038    478295  @115714 @sprintcare I get almost no service af...   \n",
       "\n",
       "                                               clean  vader_sentiment_clean  \\\n",
       "0  can make any calls whats problem please let ou...                -0.1027   \n",
       "1  get almost no after moving LA. What wrong awfu...                -0.8109   \n",
       "\n",
       "   vader_sentiment_noclean  clean_class  noclean_class  vader_class_compare  \\\n",
       "0                  -0.1027            0              0                    0   \n",
       "1                  -0.8109            0              0                    0   \n",
       "\n",
       "                                        roberta_pred  \\\n",
       "0  [{'label': 'neutral', 'score': 0.6446839570999...   \n",
       "1  [{'label': 'negative', 'score': 0.937077283859...   \n",
       "\n",
       "                               roberta_pred_no_clean r_clean_format_label  \\\n",
       "0  [{'label': 'negative', 'score': 0.826441466808...              neutral   \n",
       "1  [{'label': 'negative', 'score': 0.957944631576...             negative   \n",
       "\n",
       "   r_clean_format_score r_noclean_label  r_noclean_score  roberta_class_clean  \\\n",
       "0              0.644684        negative         0.826441                    1   \n",
       "1              0.937077        negative         0.957945                    0   \n",
       "\n",
       "   roberta_class_noclean  \n",
       "0                      0  \n",
       "1                      0  "
      ]
     },
     "execution_count": 50,
     "metadata": {},
     "output_type": "execute_result"
    }
   ],
   "source": [
    "customer.head(2)"
   ]
  },
  {
   "cell_type": "code",
   "execution_count": 51,
   "id": "523c4f08",
   "metadata": {},
   "outputs": [],
   "source": [
    "analyze_results = customer.drop(['author_id', 'vader_class_compare',\n",
    "                                 'roberta_pred', 'roberta_pred_no_clean',\n",
    "                                 'r_clean_format_score', 'r_noclean_score'], axis = 1)"
   ]
  },
  {
   "cell_type": "code",
   "execution_count": 52,
   "id": "ec1d34a5",
   "metadata": {
    "scrolled": true
   },
   "outputs": [
    {
     "data": {
      "text/html": [
       "<div>\n",
       "<style scoped>\n",
       "    .dataframe tbody tr th:only-of-type {\n",
       "        vertical-align: middle;\n",
       "    }\n",
       "\n",
       "    .dataframe tbody tr th {\n",
       "        vertical-align: top;\n",
       "    }\n",
       "\n",
       "    .dataframe thead th {\n",
       "        text-align: right;\n",
       "    }\n",
       "</style>\n",
       "<table border=\"1\" class=\"dataframe\">\n",
       "  <thead>\n",
       "    <tr style=\"text-align: right;\">\n",
       "      <th></th>\n",
       "      <th>tweet_id</th>\n",
       "      <th>text</th>\n",
       "      <th>clean</th>\n",
       "      <th>vader_sentiment_clean</th>\n",
       "      <th>vader_sentiment_noclean</th>\n",
       "      <th>clean_class</th>\n",
       "      <th>noclean_class</th>\n",
       "      <th>r_clean_format_label</th>\n",
       "      <th>r_noclean_label</th>\n",
       "      <th>roberta_class_clean</th>\n",
       "      <th>roberta_class_noclean</th>\n",
       "    </tr>\n",
       "  </thead>\n",
       "  <tbody>\n",
       "    <tr>\n",
       "      <th>0</th>\n",
       "      <td>1278330</td>\n",
       "      <td>@sprintcare I can not make any calls whats the...</td>\n",
       "      <td>can make any calls whats problem please let ou...</td>\n",
       "      <td>-0.1027</td>\n",
       "      <td>-0.1027</td>\n",
       "      <td>0</td>\n",
       "      <td>0</td>\n",
       "      <td>neutral</td>\n",
       "      <td>negative</td>\n",
       "      <td>1</td>\n",
       "      <td>0</td>\n",
       "    </tr>\n",
       "    <tr>\n",
       "      <th>1</th>\n",
       "      <td>1544038</td>\n",
       "      <td>@115714 @sprintcare I get almost no service af...</td>\n",
       "      <td>get almost no after moving LA. What wrong awfu...</td>\n",
       "      <td>-0.8109</td>\n",
       "      <td>-0.8109</td>\n",
       "      <td>0</td>\n",
       "      <td>0</td>\n",
       "      <td>negative</td>\n",
       "      <td>negative</td>\n",
       "      <td>0</td>\n",
       "      <td>0</td>\n",
       "    </tr>\n",
       "    <tr>\n",
       "      <th>2</th>\n",
       "      <td>2753722</td>\n",
       "      <td>@sprintcare to replace this one without paying...</td>\n",
       "      <td>replace one without paying an early upgrade fe...</td>\n",
       "      <td>0.0772</td>\n",
       "      <td>0.0772</td>\n",
       "      <td>2</td>\n",
       "      <td>2</td>\n",
       "      <td>neutral</td>\n",
       "      <td>negative</td>\n",
       "      <td>1</td>\n",
       "      <td>0</td>\n",
       "    </tr>\n",
       "    <tr>\n",
       "      <th>3</th>\n",
       "      <td>2753720</td>\n",
       "      <td>@sprintcare done</td>\n",
       "      <td>done</td>\n",
       "      <td>0.0000</td>\n",
       "      <td>0.0000</td>\n",
       "      <td>1</td>\n",
       "      <td>1</td>\n",
       "      <td>positive</td>\n",
       "      <td>neutral</td>\n",
       "      <td>2</td>\n",
       "      <td>1</td>\n",
       "    </tr>\n",
       "    <tr>\n",
       "      <th>4</th>\n",
       "      <td>2753719</td>\n",
       "      <td>@sprintcare get any early upgrade.  My less th...</td>\n",
       "      <td>get any early upgrade. My less than year old d...</td>\n",
       "      <td>0.0000</td>\n",
       "      <td>0.0000</td>\n",
       "      <td>1</td>\n",
       "      <td>1</td>\n",
       "      <td>negative</td>\n",
       "      <td>negative</td>\n",
       "      <td>0</td>\n",
       "      <td>0</td>\n",
       "    </tr>\n",
       "  </tbody>\n",
       "</table>\n",
       "</div>"
      ],
      "text/plain": [
       "   tweet_id                                               text  \\\n",
       "0   1278330  @sprintcare I can not make any calls whats the...   \n",
       "1   1544038  @115714 @sprintcare I get almost no service af...   \n",
       "2   2753722  @sprintcare to replace this one without paying...   \n",
       "3   2753720                                   @sprintcare done   \n",
       "4   2753719  @sprintcare get any early upgrade.  My less th...   \n",
       "\n",
       "                                               clean  vader_sentiment_clean  \\\n",
       "0  can make any calls whats problem please let ou...                -0.1027   \n",
       "1  get almost no after moving LA. What wrong awfu...                -0.8109   \n",
       "2  replace one without paying an early upgrade fe...                 0.0772   \n",
       "3                                               done                 0.0000   \n",
       "4  get any early upgrade. My less than year old d...                 0.0000   \n",
       "\n",
       "   vader_sentiment_noclean  clean_class  noclean_class r_clean_format_label  \\\n",
       "0                  -0.1027            0              0              neutral   \n",
       "1                  -0.8109            0              0             negative   \n",
       "2                   0.0772            2              2              neutral   \n",
       "3                   0.0000            1              1             positive   \n",
       "4                   0.0000            1              1             negative   \n",
       "\n",
       "  r_noclean_label  roberta_class_clean  roberta_class_noclean  \n",
       "0        negative                    1                      0  \n",
       "1        negative                    0                      0  \n",
       "2        negative                    1                      0  \n",
       "3         neutral                    2                      1  \n",
       "4        negative                    0                      0  "
      ]
     },
     "execution_count": 52,
     "metadata": {},
     "output_type": "execute_result"
    }
   ],
   "source": [
    "analyze_results.head()"
   ]
  },
  {
   "cell_type": "code",
   "execution_count": 53,
   "id": "9cb80dff",
   "metadata": {
    "scrolled": true
   },
   "outputs": [
    {
     "data": {
      "text/html": [
       "<div>\n",
       "<style scoped>\n",
       "    .dataframe tbody tr th:only-of-type {\n",
       "        vertical-align: middle;\n",
       "    }\n",
       "\n",
       "    .dataframe tbody tr th {\n",
       "        vertical-align: top;\n",
       "    }\n",
       "\n",
       "    .dataframe thead th {\n",
       "        text-align: right;\n",
       "    }\n",
       "</style>\n",
       "<table border=\"1\" class=\"dataframe\">\n",
       "  <thead>\n",
       "    <tr style=\"text-align: right;\">\n",
       "      <th></th>\n",
       "      <th>tweet_id</th>\n",
       "      <th>text</th>\n",
       "      <th>clean</th>\n",
       "      <th>vader_sentiment_clean</th>\n",
       "      <th>vader_sentiment_noclean</th>\n",
       "      <th>clean_class</th>\n",
       "      <th>noclean_class</th>\n",
       "      <th>r_clean_format_label</th>\n",
       "      <th>r_noclean_label</th>\n",
       "      <th>roberta_class_clean</th>\n",
       "      <th>roberta_class_noclean</th>\n",
       "      <th>clean_match</th>\n",
       "      <th>noclean_match</th>\n",
       "    </tr>\n",
       "  </thead>\n",
       "  <tbody>\n",
       "    <tr>\n",
       "      <th>0</th>\n",
       "      <td>1278330</td>\n",
       "      <td>@sprintcare I can not make any calls whats the...</td>\n",
       "      <td>can make any calls whats problem please let ou...</td>\n",
       "      <td>-0.1027</td>\n",
       "      <td>-0.1027</td>\n",
       "      <td>0</td>\n",
       "      <td>0</td>\n",
       "      <td>neutral</td>\n",
       "      <td>negative</td>\n",
       "      <td>1</td>\n",
       "      <td>0</td>\n",
       "      <td>False</td>\n",
       "      <td>True</td>\n",
       "    </tr>\n",
       "    <tr>\n",
       "      <th>1</th>\n",
       "      <td>1544038</td>\n",
       "      <td>@115714 @sprintcare I get almost no service af...</td>\n",
       "      <td>get almost no after moving LA. What wrong awfu...</td>\n",
       "      <td>-0.8109</td>\n",
       "      <td>-0.8109</td>\n",
       "      <td>0</td>\n",
       "      <td>0</td>\n",
       "      <td>negative</td>\n",
       "      <td>negative</td>\n",
       "      <td>0</td>\n",
       "      <td>0</td>\n",
       "      <td>True</td>\n",
       "      <td>True</td>\n",
       "    </tr>\n",
       "    <tr>\n",
       "      <th>2</th>\n",
       "      <td>2753722</td>\n",
       "      <td>@sprintcare to replace this one without paying...</td>\n",
       "      <td>replace one without paying an early upgrade fe...</td>\n",
       "      <td>0.0772</td>\n",
       "      <td>0.0772</td>\n",
       "      <td>2</td>\n",
       "      <td>2</td>\n",
       "      <td>neutral</td>\n",
       "      <td>negative</td>\n",
       "      <td>1</td>\n",
       "      <td>0</td>\n",
       "      <td>False</td>\n",
       "      <td>False</td>\n",
       "    </tr>\n",
       "    <tr>\n",
       "      <th>3</th>\n",
       "      <td>2753720</td>\n",
       "      <td>@sprintcare done</td>\n",
       "      <td>done</td>\n",
       "      <td>0.0000</td>\n",
       "      <td>0.0000</td>\n",
       "      <td>1</td>\n",
       "      <td>1</td>\n",
       "      <td>positive</td>\n",
       "      <td>neutral</td>\n",
       "      <td>2</td>\n",
       "      <td>1</td>\n",
       "      <td>False</td>\n",
       "      <td>True</td>\n",
       "    </tr>\n",
       "    <tr>\n",
       "      <th>4</th>\n",
       "      <td>2753719</td>\n",
       "      <td>@sprintcare get any early upgrade.  My less th...</td>\n",
       "      <td>get any early upgrade. My less than year old d...</td>\n",
       "      <td>0.0000</td>\n",
       "      <td>0.0000</td>\n",
       "      <td>1</td>\n",
       "      <td>1</td>\n",
       "      <td>negative</td>\n",
       "      <td>negative</td>\n",
       "      <td>0</td>\n",
       "      <td>0</td>\n",
       "      <td>False</td>\n",
       "      <td>False</td>\n",
       "    </tr>\n",
       "    <tr>\n",
       "      <th>5</th>\n",
       "      <td>2753717</td>\n",
       "      <td>@sprintcare Thanks very much for your help!</td>\n",
       "      <td>Thanks very much help!</td>\n",
       "      <td>0.7327</td>\n",
       "      <td>0.7088</td>\n",
       "      <td>2</td>\n",
       "      <td>2</td>\n",
       "      <td>positive</td>\n",
       "      <td>positive</td>\n",
       "      <td>2</td>\n",
       "      <td>2</td>\n",
       "      <td>True</td>\n",
       "      <td>True</td>\n",
       "    </tr>\n",
       "    <tr>\n",
       "      <th>6</th>\n",
       "      <td>726098</td>\n",
       "      <td>@sprintcare . I live in a city not BFE and I'm...</td>\n",
       "      <td>. live city BFE I'm sick tired getting this. h...</td>\n",
       "      <td>-0.8893</td>\n",
       "      <td>-0.4085</td>\n",
       "      <td>0</td>\n",
       "      <td>0</td>\n",
       "      <td>negative</td>\n",
       "      <td>negative</td>\n",
       "      <td>0</td>\n",
       "      <td>0</td>\n",
       "      <td>True</td>\n",
       "      <td>True</td>\n",
       "    </tr>\n",
       "  </tbody>\n",
       "</table>\n",
       "</div>"
      ],
      "text/plain": [
       "   tweet_id                                               text  \\\n",
       "0   1278330  @sprintcare I can not make any calls whats the...   \n",
       "1   1544038  @115714 @sprintcare I get almost no service af...   \n",
       "2   2753722  @sprintcare to replace this one without paying...   \n",
       "3   2753720                                   @sprintcare done   \n",
       "4   2753719  @sprintcare get any early upgrade.  My less th...   \n",
       "5   2753717        @sprintcare Thanks very much for your help!   \n",
       "6    726098  @sprintcare . I live in a city not BFE and I'm...   \n",
       "\n",
       "                                               clean  vader_sentiment_clean  \\\n",
       "0  can make any calls whats problem please let ou...                -0.1027   \n",
       "1  get almost no after moving LA. What wrong awfu...                -0.8109   \n",
       "2  replace one without paying an early upgrade fe...                 0.0772   \n",
       "3                                               done                 0.0000   \n",
       "4  get any early upgrade. My less than year old d...                 0.0000   \n",
       "5                             Thanks very much help!                 0.7327   \n",
       "6  . live city BFE I'm sick tired getting this. h...                -0.8893   \n",
       "\n",
       "   vader_sentiment_noclean  clean_class  noclean_class r_clean_format_label  \\\n",
       "0                  -0.1027            0              0              neutral   \n",
       "1                  -0.8109            0              0             negative   \n",
       "2                   0.0772            2              2              neutral   \n",
       "3                   0.0000            1              1             positive   \n",
       "4                   0.0000            1              1             negative   \n",
       "5                   0.7088            2              2             positive   \n",
       "6                  -0.4085            0              0             negative   \n",
       "\n",
       "  r_noclean_label  roberta_class_clean  roberta_class_noclean  clean_match  \\\n",
       "0        negative                    1                      0        False   \n",
       "1        negative                    0                      0         True   \n",
       "2        negative                    1                      0        False   \n",
       "3         neutral                    2                      1        False   \n",
       "4        negative                    0                      0        False   \n",
       "5        positive                    2                      2         True   \n",
       "6        negative                    0                      0         True   \n",
       "\n",
       "   noclean_match  \n",
       "0           True  \n",
       "1           True  \n",
       "2          False  \n",
       "3           True  \n",
       "4          False  \n",
       "5           True  \n",
       "6           True  "
      ]
     },
     "execution_count": 53,
     "metadata": {},
     "output_type": "execute_result"
    }
   ],
   "source": [
    "analyze_results[\"clean_match\"] = analyze_results [\"clean_class\"] == analyze_results[\"roberta_class_clean\"]\n",
    "analyze_results[\"noclean_match\"] = analyze_results [\"noclean_class\"] == analyze_results[\"roberta_class_noclean\"]\n",
    "analyze_results.head(7)"
   ]
  },
  {
   "cell_type": "markdown",
   "id": "d4b49b1f",
   "metadata": {},
   "source": [
    "### Check the two models for differences"
   ]
  },
  {
   "cell_type": "code",
   "execution_count": 70,
   "id": "987a377a",
   "metadata": {},
   "outputs": [
    {
     "data": {
      "text/html": [
       "<div>\n",
       "<style scoped>\n",
       "    .dataframe tbody tr th:only-of-type {\n",
       "        vertical-align: middle;\n",
       "    }\n",
       "\n",
       "    .dataframe tbody tr th {\n",
       "        vertical-align: top;\n",
       "    }\n",
       "\n",
       "    .dataframe thead th {\n",
       "        text-align: right;\n",
       "    }\n",
       "</style>\n",
       "<table border=\"1\" class=\"dataframe\">\n",
       "  <thead>\n",
       "    <tr style=\"text-align: right;\">\n",
       "      <th></th>\n",
       "      <th>tweet_id</th>\n",
       "      <th>text</th>\n",
       "      <th>clean</th>\n",
       "      <th>vader_sentiment_clean</th>\n",
       "      <th>vader_sentiment_noclean</th>\n",
       "      <th>clean_class</th>\n",
       "      <th>noclean_class</th>\n",
       "      <th>r_clean_format_label</th>\n",
       "      <th>r_noclean_label</th>\n",
       "      <th>roberta_class_clean</th>\n",
       "      <th>roberta_class_noclean</th>\n",
       "      <th>noclean_match</th>\n",
       "    </tr>\n",
       "    <tr>\n",
       "      <th>clean_match</th>\n",
       "      <th></th>\n",
       "      <th></th>\n",
       "      <th></th>\n",
       "      <th></th>\n",
       "      <th></th>\n",
       "      <th></th>\n",
       "      <th></th>\n",
       "      <th></th>\n",
       "      <th></th>\n",
       "      <th></th>\n",
       "      <th></th>\n",
       "      <th></th>\n",
       "    </tr>\n",
       "  </thead>\n",
       "  <tbody>\n",
       "    <tr>\n",
       "      <th>False</th>\n",
       "      <td>6066</td>\n",
       "      <td>6066</td>\n",
       "      <td>6066</td>\n",
       "      <td>6066</td>\n",
       "      <td>6066</td>\n",
       "      <td>6066</td>\n",
       "      <td>6066</td>\n",
       "      <td>6066</td>\n",
       "      <td>6066</td>\n",
       "      <td>6066</td>\n",
       "      <td>6066</td>\n",
       "      <td>6066</td>\n",
       "    </tr>\n",
       "    <tr>\n",
       "      <th>True</th>\n",
       "      <td>7645</td>\n",
       "      <td>7645</td>\n",
       "      <td>7645</td>\n",
       "      <td>7645</td>\n",
       "      <td>7645</td>\n",
       "      <td>7645</td>\n",
       "      <td>7645</td>\n",
       "      <td>7645</td>\n",
       "      <td>7645</td>\n",
       "      <td>7645</td>\n",
       "      <td>7645</td>\n",
       "      <td>7645</td>\n",
       "    </tr>\n",
       "  </tbody>\n",
       "</table>\n",
       "</div>"
      ],
      "text/plain": [
       "             tweet_id  text  clean  vader_sentiment_clean  \\\n",
       "clean_match                                                 \n",
       "False            6066  6066   6066                   6066   \n",
       "True             7645  7645   7645                   7645   \n",
       "\n",
       "             vader_sentiment_noclean  clean_class  noclean_class  \\\n",
       "clean_match                                                        \n",
       "False                           6066         6066           6066   \n",
       "True                            7645         7645           7645   \n",
       "\n",
       "             r_clean_format_label  r_noclean_label  roberta_class_clean  \\\n",
       "clean_match                                                               \n",
       "False                        6066             6066                 6066   \n",
       "True                         7645             7645                 7645   \n",
       "\n",
       "             roberta_class_noclean  noclean_match  \n",
       "clean_match                                        \n",
       "False                         6066           6066  \n",
       "True                          7645           7645  "
      ]
     },
     "execution_count": 70,
     "metadata": {},
     "output_type": "execute_result"
    }
   ],
   "source": [
    "analyze_results.groupby(by=[\"clean_match\"]).count()"
   ]
  },
  {
   "cell_type": "code",
   "execution_count": 98,
   "id": "1d364c4f",
   "metadata": {},
   "outputs": [
    {
     "data": {
      "image/png": "[encoded data removed]",
      "text/plain": [
       "<Figure size 432x288 with 1 Axes>"
      ]
     },
     "metadata": {
      "needs_background": "light"
     },
     "output_type": "display_data"
    }
   ],
   "source": [
    "df4 = pd.DataFrame({\"Model Agreement\": [7645],\"Model Disagreement\": [6066],},columns=[\"Model Agreement\", \"Model Disagreement\"])\n",
    "\n",
    "df4.plot.bar()\n",
    "plt.title('Cleaned match', color='black')\n",
    "plt.legend(loc='center left', bbox_to_anchor=(1.0, 0.5))\n",
    "plt.show()"
   ]
  },
  {
   "cell_type": "code",
   "execution_count": 56,
   "id": "736cf7e0",
   "metadata": {
    "scrolled": true
   },
   "outputs": [
    {
     "data": {
      "text/html": [
       "<div>\n",
       "<style scoped>\n",
       "    .dataframe tbody tr th:only-of-type {\n",
       "        vertical-align: middle;\n",
       "    }\n",
       "\n",
       "    .dataframe tbody tr th {\n",
       "        vertical-align: top;\n",
       "    }\n",
       "\n",
       "    .dataframe thead th {\n",
       "        text-align: right;\n",
       "    }\n",
       "</style>\n",
       "<table border=\"1\" class=\"dataframe\">\n",
       "  <thead>\n",
       "    <tr style=\"text-align: right;\">\n",
       "      <th></th>\n",
       "      <th>tweet_id</th>\n",
       "      <th>text</th>\n",
       "      <th>clean</th>\n",
       "      <th>vader_sentiment_clean</th>\n",
       "      <th>vader_sentiment_noclean</th>\n",
       "      <th>clean_class</th>\n",
       "      <th>noclean_class</th>\n",
       "      <th>r_clean_format_label</th>\n",
       "      <th>r_noclean_label</th>\n",
       "      <th>roberta_class_clean</th>\n",
       "      <th>roberta_class_noclean</th>\n",
       "      <th>clean_match</th>\n",
       "    </tr>\n",
       "    <tr>\n",
       "      <th>noclean_match</th>\n",
       "      <th></th>\n",
       "      <th></th>\n",
       "      <th></th>\n",
       "      <th></th>\n",
       "      <th></th>\n",
       "      <th></th>\n",
       "      <th></th>\n",
       "      <th></th>\n",
       "      <th></th>\n",
       "      <th></th>\n",
       "      <th></th>\n",
       "      <th></th>\n",
       "    </tr>\n",
       "  </thead>\n",
       "  <tbody>\n",
       "    <tr>\n",
       "      <th>False</th>\n",
       "      <td>6321</td>\n",
       "      <td>6321</td>\n",
       "      <td>6321</td>\n",
       "      <td>6321</td>\n",
       "      <td>6321</td>\n",
       "      <td>6321</td>\n",
       "      <td>6321</td>\n",
       "      <td>6321</td>\n",
       "      <td>6321</td>\n",
       "      <td>6321</td>\n",
       "      <td>6321</td>\n",
       "      <td>6321</td>\n",
       "    </tr>\n",
       "    <tr>\n",
       "      <th>True</th>\n",
       "      <td>7390</td>\n",
       "      <td>7390</td>\n",
       "      <td>7390</td>\n",
       "      <td>7390</td>\n",
       "      <td>7390</td>\n",
       "      <td>7390</td>\n",
       "      <td>7390</td>\n",
       "      <td>7390</td>\n",
       "      <td>7390</td>\n",
       "      <td>7390</td>\n",
       "      <td>7390</td>\n",
       "      <td>7390</td>\n",
       "    </tr>\n",
       "  </tbody>\n",
       "</table>\n",
       "</div>"
      ],
      "text/plain": [
       "               tweet_id  text  clean  vader_sentiment_clean  \\\n",
       "noclean_match                                                 \n",
       "False              6321  6321   6321                   6321   \n",
       "True               7390  7390   7390                   7390   \n",
       "\n",
       "               vader_sentiment_noclean  clean_class  noclean_class  \\\n",
       "noclean_match                                                        \n",
       "False                             6321         6321           6321   \n",
       "True                              7390         7390           7390   \n",
       "\n",
       "               r_clean_format_label  r_noclean_label  roberta_class_clean  \\\n",
       "noclean_match                                                               \n",
       "False                          6321             6321                 6321   \n",
       "True                           7390             7390                 7390   \n",
       "\n",
       "               roberta_class_noclean  clean_match  \n",
       "noclean_match                                      \n",
       "False                           6321         6321  \n",
       "True                            7390         7390  "
      ]
     },
     "execution_count": 56,
     "metadata": {},
     "output_type": "execute_result"
    }
   ],
   "source": [
    "analyze_results.groupby(by=[\"noclean_match\"]).count()"
   ]
  },
  {
   "cell_type": "code",
   "execution_count": 96,
   "id": "50cbfaee",
   "metadata": {},
   "outputs": [
    {
     "data": {
      "image/png": "[encoded data removed]",
      "text/plain": [
       "<Figure size 432x288 with 1 Axes>"
      ]
     },
     "metadata": {
      "needs_background": "light"
     },
     "output_type": "display_data"
    }
   ],
   "source": [
    "df4 = pd.DataFrame({\"Model Agreement\": [7390],\"Model Disagreement\": [6321],},columns=[\"Model Agreement\", \"Model Disagreement\"])\n",
    "\n",
    "df4.plot.bar()\n",
    "plt.title('Uncleaned match', color='black')\n",
    "plt.legend(loc='center left', bbox_to_anchor=(1.0, 0.5))\n",
    "plt.show()"
   ]
  }
 ],
 "metadata": {
  "kernelspec": {
   "display_name": "Python 3 (ipykernel)",
   "language": "python",
   "name": "python3"
  },
  "language_info": {
   "codemirror_mode": {
    "name": "ipython",
    "version": 3
   },
   "file_extension": ".py",
   "mimetype": "text/x-python",
   "name": "python",
   "nbconvert_exporter": "python",
   "pygments_lexer": "ipython3",
   "version": "3.8.10"
  }
 },
 "nbformat": 4,
 "nbformat_minor": 5
}
